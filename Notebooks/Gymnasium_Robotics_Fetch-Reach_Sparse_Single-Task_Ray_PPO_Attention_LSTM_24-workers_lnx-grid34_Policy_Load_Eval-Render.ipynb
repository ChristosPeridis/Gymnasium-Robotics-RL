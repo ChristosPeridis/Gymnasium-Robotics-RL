{
 "cells": [
  {
   "cell_type": "code",
   "execution_count": 1,
   "id": "14cc70ff-09db-477d-8fce-4ff963523d34",
   "metadata": {},
   "outputs": [
    {
     "name": "stderr",
     "output_type": "stream",
     "text": [
      "2023-08-03 16:27:10,520\tINFO worker.py:1612 -- Started a local Ray instance. View the dashboard at \u001b[1m\u001b[32m127.0.0.1:8266 \u001b[39m\u001b[22m\n"
     ]
    },
    {
     "data": {
      "application/vnd.jupyter.widget-view+json": {
       "model_id": "4efb07cf8b2949e7a348e445d61e26c6",
       "version_major": 2,
       "version_minor": 0
      },
      "text/html": [
       "<div class=\"lm-Widget p-Widget lm-Panel p-Panel jp-Cell-outputWrapper\">\n",
       "    <div style=\"margin-left: 50px;display: flex;flex-direction: row;align-items: center\">\n",
       "        <div class=\"jp-RenderedHTMLCommon\" style=\"display: flex; flex-direction: row;\">\n",
       "  <svg viewBox=\"0 0 567 224\" fill=\"none\" xmlns=\"http://www.w3.org/2000/svg\" style=\"height: 3em;\">\n",
       "    <g clip-path=\"url(#clip0_4338_178347)\">\n",
       "        <path d=\"M341.29 165.561H355.29L330.13 129.051C345.63 123.991 354.21 112.051 354.21 94.2307C354.21 71.3707 338.72 58.1807 311.88 58.1807H271V165.561H283.27V131.661H311.8C314.25 131.661 316.71 131.501 319.01 131.351L341.25 165.561H341.29ZM283.29 119.851V70.0007H311.82C331.3 70.0007 342.34 78.2907 342.34 94.5507C342.34 111.271 331.34 119.861 311.82 119.861L283.29 119.851ZM451.4 138.411L463.4 165.561H476.74L428.74 58.1807H416L367.83 165.561H380.83L392.83 138.411H451.4ZM446.19 126.601H398L422 72.1407L446.24 126.601H446.19ZM526.11 128.741L566.91 58.1807H554.35L519.99 114.181L485.17 58.1807H472.44L514.01 129.181V165.541H526.13V128.741H526.11Z\" fill=\"var(--jp-ui-font-color0)\"/>\n",
       "        <path d=\"M82.35 104.44C84.0187 97.8827 87.8248 92.0678 93.1671 87.9146C98.5094 83.7614 105.083 81.5067 111.85 81.5067C118.617 81.5067 125.191 83.7614 130.533 87.9146C135.875 92.0678 139.681 97.8827 141.35 104.44H163.75C164.476 101.562 165.622 98.8057 167.15 96.2605L127.45 56.5605C121.071 60.3522 113.526 61.6823 106.235 60.3005C98.9443 58.9187 92.4094 54.9203 87.8602 49.0574C83.3109 43.1946 81.0609 35.8714 81.5332 28.4656C82.0056 21.0599 85.1679 14.0819 90.4252 8.8446C95.6824 3.60726 102.672 0.471508 110.08 0.0272655C117.487 -0.416977 124.802 1.86091 130.647 6.4324C136.493 11.0039 140.467 17.5539 141.821 24.8501C143.175 32.1463 141.816 39.6859 138 46.0505L177.69 85.7505C182.31 82.9877 187.58 81.4995 192.962 81.4375C198.345 81.3755 203.648 82.742 208.33 85.3976C213.012 88.0532 216.907 91.9029 219.616 96.5544C222.326 101.206 223.753 106.492 223.753 111.875C223.753 117.258 222.326 122.545 219.616 127.197C216.907 131.848 213.012 135.698 208.33 138.353C203.648 141.009 198.345 142.375 192.962 142.313C187.58 142.251 182.31 140.763 177.69 138L138 177.7C141.808 184.071 143.155 191.614 141.79 198.91C140.424 206.205 136.44 212.75 130.585 217.313C124.731 221.875 117.412 224.141 110.004 223.683C102.596 223.226 95.6103 220.077 90.3621 214.828C85.1139 209.58 81.9647 202.595 81.5072 195.187C81.0497 187.779 83.3154 180.459 87.878 174.605C92.4405 168.751 98.9853 164.766 106.281 163.401C113.576 162.035 121.119 163.383 127.49 167.19L167.19 127.49C165.664 124.941 164.518 122.182 163.79 119.3H141.39C139.721 125.858 135.915 131.673 130.573 135.826C125.231 139.98 118.657 142.234 111.89 142.234C105.123 142.234 98.5494 139.98 93.2071 135.826C87.8648 131.673 84.0587 125.858 82.39 119.3H60C58.1878 126.495 53.8086 132.78 47.6863 136.971C41.5641 141.163 34.1211 142.972 26.7579 142.059C19.3947 141.146 12.6191 137.574 7.70605 132.014C2.79302 126.454 0.0813599 119.29 0.0813599 111.87C0.0813599 104.451 2.79302 97.2871 7.70605 91.7272C12.6191 86.1673 19.3947 82.5947 26.7579 81.6817C34.1211 80.7686 41.5641 82.5781 47.6863 86.7696C53.8086 90.9611 58.1878 97.2456 60 104.44H82.35ZM100.86 204.32C103.407 206.868 106.759 208.453 110.345 208.806C113.93 209.159 117.527 208.258 120.522 206.256C123.517 204.254 125.725 201.276 126.771 197.828C127.816 194.38 127.633 190.677 126.253 187.349C124.874 184.021 122.383 181.274 119.205 179.577C116.027 177.88 112.359 177.337 108.826 178.042C105.293 178.746 102.113 180.654 99.8291 183.44C97.5451 186.226 96.2979 189.718 96.3 193.32C96.2985 195.364 96.7006 197.388 97.4831 199.275C98.2656 201.163 99.4132 202.877 100.86 204.32ZM204.32 122.88C206.868 120.333 208.453 116.981 208.806 113.396C209.159 109.811 208.258 106.214 206.256 103.219C204.254 100.223 201.275 98.0151 197.827 96.97C194.38 95.9249 190.676 96.1077 187.348 97.4873C184.02 98.8669 181.274 101.358 179.577 104.536C177.879 107.714 177.337 111.382 178.041 114.915C178.746 118.448 180.653 121.627 183.439 123.911C186.226 126.195 189.717 127.443 193.32 127.44C195.364 127.443 197.388 127.042 199.275 126.259C201.163 125.476 202.878 124.328 204.32 122.88ZM122.88 19.4205C120.333 16.8729 116.981 15.2876 113.395 14.9347C109.81 14.5817 106.213 15.483 103.218 17.4849C100.223 19.4868 98.0146 22.4654 96.9696 25.9131C95.9245 29.3608 96.1073 33.0642 97.4869 36.3922C98.8665 39.7202 101.358 42.4668 104.535 44.1639C107.713 45.861 111.381 46.4036 114.914 45.6992C118.447 44.9949 121.627 43.0871 123.911 40.301C126.195 37.515 127.442 34.0231 127.44 30.4205C127.44 28.3772 127.038 26.3539 126.255 24.4664C125.473 22.5788 124.326 20.8642 122.88 19.4205ZM19.42 100.86C16.8725 103.408 15.2872 106.76 14.9342 110.345C14.5813 113.93 15.4826 117.527 17.4844 120.522C19.4863 123.518 22.4649 125.726 25.9127 126.771C29.3604 127.816 33.0638 127.633 36.3918 126.254C39.7198 124.874 42.4664 122.383 44.1635 119.205C45.8606 116.027 46.4032 112.359 45.6988 108.826C44.9944 105.293 43.0866 102.114 40.3006 99.8296C37.5145 97.5455 34.0227 96.2983 30.42 96.3005C26.2938 96.3018 22.337 97.9421 19.42 100.86ZM100.86 100.86C98.3125 103.408 96.7272 106.76 96.3742 110.345C96.0213 113.93 96.9226 117.527 98.9244 120.522C100.926 123.518 103.905 125.726 107.353 126.771C110.8 127.816 114.504 127.633 117.832 126.254C121.16 124.874 123.906 122.383 125.604 119.205C127.301 116.027 127.843 112.359 127.139 108.826C126.434 105.293 124.527 102.114 121.741 99.8296C118.955 97.5455 115.463 96.2983 111.86 96.3005C109.817 96.299 107.793 96.701 105.905 97.4835C104.018 98.2661 102.303 99.4136 100.86 100.86Z\" fill=\"#00AEEF\"/>\n",
       "    </g>\n",
       "    <defs>\n",
       "        <clipPath id=\"clip0_4338_178347\">\n",
       "            <rect width=\"566.93\" height=\"223.75\" fill=\"white\"/>\n",
       "        </clipPath>\n",
       "    </defs>\n",
       "  </svg>\n",
       "</div>\n",
       "\n",
       "        <table class=\"jp-RenderedHTMLCommon\" style=\"border-collapse: collapse;color: var(--jp-ui-font-color1);font-size: var(--jp-ui-font-size1);\">\n",
       "    <tr>\n",
       "        <td style=\"text-align: left\"><b>Python version:</b></td>\n",
       "        <td style=\"text-align: left\"><b>3.9.17</b></td>\n",
       "    </tr>\n",
       "    <tr>\n",
       "        <td style=\"text-align: left\"><b>Ray version:</b></td>\n",
       "        <td style=\"text-align: left\"><b>2.6.1</b></td>\n",
       "    </tr>\n",
       "    <tr>\n",
       "    <td style=\"text-align: left\"><b>Dashboard:</b></td>\n",
       "    <td style=\"text-align: left\"><b><a href=\"http://127.0.0.1:8266\" target=\"_blank\">http://127.0.0.1:8266</a></b></td>\n",
       "</tr>\n",
       "\n",
       "</table>\n",
       "\n",
       "    </div>\n",
       "</div>\n"
      ],
      "text/plain": [
       "RayContext(dashboard_url='127.0.0.1:8266', python_version='3.9.17', ray_version='2.6.1', ray_commit='d68bf04883af2e430fc3a50fd544bb7c84aff2e9', protocol_version=None)"
      ]
     },
     "execution_count": 1,
     "metadata": {},
     "output_type": "execute_result"
    }
   ],
   "source": [
    "import ray\n",
    "ray.init()"
   ]
  },
  {
   "cell_type": "code",
   "execution_count": 2,
   "id": "d18ddbaf-bf7d-41e8-a54d-2dff0294b8f2",
   "metadata": {},
   "outputs": [
    {
     "name": "stdout",
     "output_type": "stream",
     "text": [
      "{'node:__internal_head__': 1.0, 'node:158.125.233.246': 1.0, 'memory': 66937716532.0, 'accelerator_type:G': 1.0, 'GPU': 1.0, 'object_store_memory': 32973307084.0, 'CPU': 32.0}\n"
     ]
    }
   ],
   "source": [
    "resources = ray.cluster_resources()\n",
    "print(resources)"
   ]
  },
  {
   "cell_type": "code",
   "execution_count": 3,
   "id": "de7b6605-7abd-46fe-abbc-8efc751a7420",
   "metadata": {},
   "outputs": [],
   "source": [
    "import gymnasium as gym\n",
    "import numpy as np\n",
    "\n",
    "class SeededFetchReachEnv(gym.Wrapper):\n",
    "    def __init__(self, env, seed=None):\n",
    "        super().__init__(env)\n",
    "        self.seed = seed\n",
    "\n",
    "    def reset(self, seed=None, options=None):\n",
    "        obs, info = self.env.reset(seed=self.seed)\n",
    "        return obs, info\n",
    "\n",
    "    def seed(self, seed=None):\n",
    "        self.np_random, seed = np.random.SeedSequence(seed)\n",
    "        return [seed]\n",
    "\n",
    "# Usage:\n",
    "#env = gym.make('FetchPickAndPlace-v2')\n",
    "#wrapped_env = SeededFetchPickAndPlaceEnv(env, 959)\n"
   ]
  },
  {
   "cell_type": "code",
   "execution_count": 4,
   "id": "a4568b72-e993-494f-9b1b-084c505fde37",
   "metadata": {},
   "outputs": [],
   "source": [
    "#env = gym.make('FrankaPickPlaceFixed-v0')"
   ]
  },
  {
   "cell_type": "code",
   "execution_count": 5,
   "id": "355ad143-d043-4d2d-a824-f97890dea887",
   "metadata": {},
   "outputs": [],
   "source": [
    "def env_creator(env_config={}):\n",
    "    import gymnasium as gym\n",
    "    env = gym.make('FetchReach-v2', render_mode='rgb_array', reward_type='sparse', max_episode_steps=50)\n",
    "    env = SeededFetchReachEnv(env, 960)\n",
    "    env.reset()\n",
    "    return env"
   ]
  },
  {
   "cell_type": "code",
   "execution_count": 6,
   "id": "bd8bf628-1cad-48fe-b88a-1054b1bf2183",
   "metadata": {},
   "outputs": [],
   "source": [
    "from ray.tune.registry import register_env\n",
    "register_env(\"Gymnasium_Reach_0_Sparse_Single_Task\", env_creator)"
   ]
  },
  {
   "cell_type": "code",
   "execution_count": 7,
   "id": "1f594feb-3a7c-4e0b-bbed-1e1e2d95e14c",
   "metadata": {},
   "outputs": [],
   "source": [
    "# Serialize with cloudpickle and save to a file\n",
    "#with open(\"Gymnasium_Pick_Place_0.pkl\", \"wb\") as f:\n",
    "   # cloudpickle.dump(env_creator, f)"
   ]
  },
  {
   "cell_type": "code",
   "execution_count": 8,
   "id": "c730fc0d-84e7-4a7a-9473-93d2988db9dd",
   "metadata": {},
   "outputs": [],
   "source": [
    "from ray import tune"
   ]
  },
  {
   "cell_type": "code",
   "execution_count": 9,
   "id": "421ff420-35f5-4a34-b7a8-99f0fece4129",
   "metadata": {},
   "outputs": [
    {
     "name": "stderr",
     "output_type": "stream",
     "text": [
      "2023-08-03 16:27:13,377\tINFO tune.py:657 -- [output] This uses the legacy output and progress reporter, as Jupyter notebooks are not supported by the new engine, yet. For more information, please see https://github.com/ray-project/ray/issues/36949\n",
      "/home/lunet/cocp5/anaconda3/envs/R3L/lib/python3.9/site-packages/ray/tune/tune.py:258: UserWarning: Passing a `local_dir` is deprecated and will be removed in the future. Pass `storage_path` instead or set the `RAY_AIR_LOCAL_CACHE_DIR` environment variable instead.\n",
      "  warnings.warn(\n",
      "2023-08-03 16:27:14,295\tWARNING deprecation.py:50 -- DeprecationWarning: `DirectStepOptimizer` has been deprecated. This will raise an error in the future!\n",
      "2023-08-03 16:27:14,336\tWARNING deprecation.py:50 -- DeprecationWarning: `build_tf_policy` has been deprecated. This will raise an error in the future!\n",
      "2023-08-03 16:27:14,337\tWARNING deprecation.py:50 -- DeprecationWarning: `build_policy_class` has been deprecated. This will raise an error in the future!\n",
      "2023-08-03 16:27:14,354\tWARNING algorithm_config.py:2534 -- Setting `exploration_config={}` because you set `_enable_rl_module_api=True`. When RLModule API are enabled, exploration_config can not be set. If you want to implement custom exploration behaviour, please modify the `forward_exploration` method of the RLModule at hand. On configs that have a default exploration config, this must be done with `config.exploration_config={}`.\n",
      "/home/lunet/cocp5/anaconda3/envs/R3L/lib/python3.9/site-packages/gymnasium/utils/passive_env_checker.py:135: UserWarning: \u001b[33mWARN: The obs returned by the `reset()` method was expecting numpy array dtype to be float32, actual type: float64\u001b[0m\n",
      "  logger.warn(\n",
      "/home/lunet/cocp5/anaconda3/envs/R3L/lib/python3.9/site-packages/gymnasium/utils/passive_env_checker.py:159: UserWarning: \u001b[33mWARN: The obs returned by the `reset()` method is not within the observation space.\u001b[0m\n",
      "  logger.warn(f\"{pre} is not within the observation space.\")\n",
      "2023-08-03 16:27:14,371\tWARNING algorithm_config.py:2534 -- Setting `exploration_config={}` because you set `_enable_rl_module_api=True`. When RLModule API are enabled, exploration_config can not be set. If you want to implement custom exploration behaviour, please modify the `forward_exploration` method of the RLModule at hand. On configs that have a default exploration config, this must be done with `config.exploration_config={}`.\n"
     ]
    },
    {
     "data": {
      "text/html": [
       "<div class=\"tuneStatus\">\n",
       "  <div style=\"display: flex;flex-direction: row\">\n",
       "    <div style=\"display: flex;flex-direction: column;\">\n",
       "      <h3>Tune Status</h3>\n",
       "      <table>\n",
       "<tbody>\n",
       "<tr><td>Current time:</td><td>2023-08-03 17:03:34</td></tr>\n",
       "<tr><td>Running for: </td><td>00:36:20.52        </td></tr>\n",
       "<tr><td>Memory:      </td><td>27.1/125.7 GiB     </td></tr>\n",
       "</tbody>\n",
       "</table>\n",
       "    </div>\n",
       "    <div class=\"vDivider\"></div>\n",
       "    <div class=\"systemInfo\">\n",
       "      <h3>System Info</h3>\n",
       "      Using FIFO scheduling algorithm.<br>Logical resource usage: 26.0/32 CPUs, 0/1 GPUs (0.0/1.0 accelerator_type:G)\n",
       "    </div>\n",
       "    \n",
       "  </div>\n",
       "  <div class=\"hDivider\"></div>\n",
       "  <div class=\"trialStatus\">\n",
       "    <h3>Trial Status</h3>\n",
       "    <table>\n",
       "<thead>\n",
       "<tr><th>Trial name                                          </th><th>status    </th><th>loc                   </th><th style=\"text-align: right;\">  iter</th><th style=\"text-align: right;\">  total time (s)</th><th style=\"text-align: right;\">     ts</th><th style=\"text-align: right;\">  reward</th><th style=\"text-align: right;\">  episode_reward_max</th><th style=\"text-align: right;\">  episode_reward_min</th><th style=\"text-align: right;\">  episode_len_mean</th></tr>\n",
       "</thead>\n",
       "<tbody>\n",
       "<tr><td>PPO_Gymnasium_Reach_0_Sparse_Single_Task_3918e_00000</td><td>TERMINATED</td><td>158.125.233.246:132271</td><td style=\"text-align: right;\">  5000</td><td style=\"text-align: right;\">         2065.62</td><td style=\"text-align: right;\">2560000</td><td style=\"text-align: right;\">   -3.45</td><td style=\"text-align: right;\">                  -3</td><td style=\"text-align: right;\">                 -14</td><td style=\"text-align: right;\">                50</td></tr>\n",
       "</tbody>\n",
       "</table>\n",
       "  </div>\n",
       "</div>\n",
       "<style>\n",
       ".tuneStatus {\n",
       "  color: var(--jp-ui-font-color1);\n",
       "}\n",
       ".tuneStatus .systemInfo {\n",
       "  display: flex;\n",
       "  flex-direction: column;\n",
       "}\n",
       ".tuneStatus td {\n",
       "  white-space: nowrap;\n",
       "}\n",
       ".tuneStatus .trialStatus {\n",
       "  display: flex;\n",
       "  flex-direction: column;\n",
       "}\n",
       ".tuneStatus h3 {\n",
       "  font-weight: bold;\n",
       "}\n",
       ".tuneStatus .hDivider {\n",
       "  border-bottom-width: var(--jp-border-width);\n",
       "  border-bottom-color: var(--jp-border-color0);\n",
       "  border-bottom-style: solid;\n",
       "}\n",
       ".tuneStatus .vDivider {\n",
       "  border-left-width: var(--jp-border-width);\n",
       "  border-left-color: var(--jp-border-color0);\n",
       "  border-left-style: solid;\n",
       "  margin: 0.5em 1em 0.5em 1em;\n",
       "}\n",
       "</style>\n"
      ],
      "text/plain": [
       "<IPython.core.display.HTML object>"
      ]
     },
     "metadata": {},
     "output_type": "display_data"
    },
    {
     "name": "stderr",
     "output_type": "stream",
     "text": [
      "2023-08-03 16:27:14,387\tWARNING algorithm_config.py:2534 -- Setting `exploration_config={}` because you set `_enable_rl_module_api=True`. When RLModule API are enabled, exploration_config can not be set. If you want to implement custom exploration behaviour, please modify the `forward_exploration` method of the RLModule at hand. On configs that have a default exploration config, this must be done with `config.exploration_config={}`.\n",
      "2023-08-03 16:27:14,387\tWARNING algorithm_config.py:656 -- Cannot create PPOConfig from given `config_dict`! Property use_lstm not supported.\n",
      "2023-08-03 16:27:14,388\tWARNING deprecation.py:50 -- DeprecationWarning: `AlgorithmConfig.evaluation(evaluation_num_episodes=..)` has been deprecated. Use `AlgorithmConfig.evaluation(evaluation_duration=.., evaluation_duration_unit='episodes')` instead. This will raise an error in the future!\n",
      "\u001b[2m\u001b[36m(pid=132271)\u001b[0m DeprecationWarning: `DirectStepOptimizer` has been deprecated. This will raise an error in the future!\n",
      "\u001b[2m\u001b[36m(PPO pid=132271)\u001b[0m 2023-08-03 16:27:16,598\tWARNING algorithm_config.py:2534 -- Setting `exploration_config={}` because you set `_enable_rl_module_api=True`. When RLModule API are enabled, exploration_config can not be set. If you want to implement custom exploration behaviour, please modify the `forward_exploration` method of the RLModule at hand. On configs that have a default exploration config, this must be done with `config.exploration_config={}`.\n",
      "\u001b[2m\u001b[36m(PPO pid=132271)\u001b[0m 2023-08-03 16:27:16,598\tWARNING algorithm_config.py:656 -- Cannot create PPOConfig from given `config_dict`! Property use_lstm not supported.\n",
      "\u001b[2m\u001b[36m(PPO pid=132271)\u001b[0m 2023-08-03 16:27:16,598\tWARNING deprecation.py:50 -- DeprecationWarning: `AlgorithmConfig.evaluation(evaluation_num_episodes=..)` has been deprecated. Use `AlgorithmConfig.evaluation(evaluation_duration=.., evaluation_duration_unit='episodes')` instead. This will raise an error in the future!\n",
      "\u001b[2m\u001b[36m(RolloutWorker pid=132385)\u001b[0m /home/lunet/cocp5/anaconda3/envs/R3L/lib/python3.9/site-packages/gymnasium/core.py:297: UserWarning: \u001b[33mWARN: env.single_observation_space to get variables from other wrappers is deprecated and will be removed in v1.0, to get this variable you can do `env.unwrapped.single_observation_space` for environment variables or `env.get_attr('single_observation_space')` that will search the reminding wrappers.\u001b[0m\n",
      "\u001b[2m\u001b[36m(RolloutWorker pid=132385)\u001b[0m   logger.warn(\n",
      "\u001b[2m\u001b[36m(RolloutWorker pid=132385)\u001b[0m /home/lunet/cocp5/anaconda3/envs/R3L/lib/python3.9/site-packages/gymnasium/core.py:297: UserWarning: \u001b[33mWARN: env.single_action_space to get variables from other wrappers is deprecated and will be removed in v1.0, to get this variable you can do `env.unwrapped.single_action_space` for environment variables or `env.get_attr('single_action_space')` that will search the reminding wrappers.\u001b[0m\n",
      "\u001b[2m\u001b[36m(RolloutWorker pid=132385)\u001b[0m   logger.warn(\n",
      "\u001b[2m\u001b[36m(RolloutWorker pid=132378)\u001b[0m 2023-08-03 16:27:20,386\tWARNING deprecation.py:50 -- DeprecationWarning: `ValueNetworkMixin` has been deprecated. This will raise an error in the future!\n",
      "\u001b[2m\u001b[36m(RolloutWorker pid=132378)\u001b[0m 2023-08-03 16:27:20,386\tWARNING deprecation.py:50 -- DeprecationWarning: `LearningRateSchedule` has been deprecated. This will raise an error in the future!\n",
      "\u001b[2m\u001b[36m(RolloutWorker pid=132378)\u001b[0m 2023-08-03 16:27:20,386\tWARNING deprecation.py:50 -- DeprecationWarning: `EntropyCoeffSchedule` has been deprecated. This will raise an error in the future!\n",
      "\u001b[2m\u001b[36m(RolloutWorker pid=132378)\u001b[0m 2023-08-03 16:27:20,386\tWARNING deprecation.py:50 -- DeprecationWarning: `KLCoeffMixin` has been deprecated. This will raise an error in the future!\n",
      "\u001b[2m\u001b[36m(pid=133506)\u001b[0m DeprecationWarning: `DirectStepOptimizer` has been deprecated. This will raise an error in the future!\u001b[32m [repeated 25x across cluster] (Ray deduplicates logs by default. Set RAY_DEDUP_LOGS=0 to disable log deduplication, or see https://docs.ray.io/en/master/ray-observability/ray-logging.html#log-deduplication for more options.)\u001b[0m\n",
      "\u001b[2m\u001b[36m(PPO pid=132271)\u001b[0m 2023-08-03 16:27:20,751\tWARNING algorithm_config.py:2534 -- Setting `exploration_config={}` because you set `_enable_rl_module_api=True`. When RLModule API are enabled, exploration_config can not be set. If you want to implement custom exploration behaviour, please modify the `forward_exploration` method of the RLModule at hand. On configs that have a default exploration config, this must be done with `config.exploration_config={}`.\u001b[32m [repeated 25x across cluster]\u001b[0m\n",
      "\u001b[2m\u001b[36m(PPO pid=132271)\u001b[0m Install gputil for GPU system monitoring.\n"
     ]
    },
    {
     "data": {
      "text/html": [
       "<div class=\"trialProgress\">\n",
       "  <h3>Trial Progress</h3>\n",
       "  <table>\n",
       "<thead>\n",
       "<tr><th>Trial name                                          </th><th style=\"text-align: right;\">  agent_timesteps_total</th><th>connector_metrics                                                                                                                                             </th><th>counters                                                                                                                        </th><th>custom_metrics  </th><th style=\"text-align: right;\">  episode_len_mean</th><th>episode_media  </th><th style=\"text-align: right;\">  episode_reward_max</th><th style=\"text-align: right;\">  episode_reward_mean</th><th style=\"text-align: right;\">  episode_reward_min</th><th style=\"text-align: right;\">  episodes_this_iter</th><th>evaluation                                                                                                                                                                                                                                                                                                                                                                                                                                                                                                                                                                                                                                                                                                                                                                                                                                                                                                                                                                                                                                                                                                                                                                                                                                                                                                                                                                                                                                                                                                                                                                                                                                                                                                                                                                                                                 </th><th>info                                                                                                                                                                                                                                                                                                                                                                                                                                                                                                                                                                                                                                                                                                          </th><th style=\"text-align: right;\">  num_agent_steps_sampled</th><th style=\"text-align: right;\">  num_agent_steps_trained</th><th style=\"text-align: right;\">  num_env_steps_sampled</th><th style=\"text-align: right;\">  num_env_steps_sampled_this_iter</th><th style=\"text-align: right;\">  num_env_steps_sampled_throughput_per_sec</th><th style=\"text-align: right;\">  num_env_steps_trained</th><th style=\"text-align: right;\">  num_env_steps_trained_this_iter</th><th style=\"text-align: right;\">  num_env_steps_trained_throughput_per_sec</th><th style=\"text-align: right;\">  num_faulty_episodes</th><th style=\"text-align: right;\">  num_healthy_workers</th><th style=\"text-align: right;\">  num_in_flight_async_reqs</th><th style=\"text-align: right;\">  num_remote_worker_restarts</th><th style=\"text-align: right;\">  num_steps_trained_this_iter</th><th>perf                                                </th><th>policy_reward_max  </th><th>policy_reward_mean  </th><th>policy_reward_min  </th><th>sampler_perf                                                                                                                                                                                                    </th><th>sampler_results                                                                                                                                                                                                                                                                                                                                                                                                                                                                                                                                                                                                                                                                                                                                                                                                                                                                                                                                                                                                                                                                                                                                                                                                                                                                                                                                                                                                                                                                                                                                                                                                                                                                                                                                                                                                      </th><th>timers                                                                                            </th></tr>\n",
       "</thead>\n",
       "<tbody>\n",
       "<tr><td>PPO_Gymnasium_Reach_0_Sparse_Single_Task_3918e_00000</td><td style=\"text-align: right;\">                2560000</td><td>{&#x27;ObsPreprocessorConnector_ms&#x27;: 0.02183222770690918, &#x27;StateBufferConnector_ms&#x27;: 0.004260063171386719, &#x27;ViewRequirementAgentConnector_ms&#x27;: 0.26619648933410645}</td><td>{&#x27;num_env_steps_sampled&#x27;: 2560000, &#x27;num_env_steps_trained&#x27;: 0, &#x27;num_agent_steps_sampled&#x27;: 2560000, &#x27;num_agent_steps_trained&#x27;: 0}</td><td>{}              </td><td style=\"text-align: right;\">                50</td><td>{}             </td><td style=\"text-align: right;\">                  -3</td><td style=\"text-align: right;\">                -3.45</td><td style=\"text-align: right;\">                 -14</td><td style=\"text-align: right;\">                  24</td><td>{&#x27;sampler_results&#x27;: {&#x27;episode_reward_max&#x27;: -3.0, &#x27;episode_reward_min&#x27;: -3.0, &#x27;episode_reward_mean&#x27;: -3.0, &#x27;episode_len_mean&#x27;: 50.0, &#x27;episode_media&#x27;: {}, &#x27;episodes_this_iter&#x27;: 2, &#x27;policy_reward_min&#x27;: {}, &#x27;policy_reward_max&#x27;: {}, &#x27;policy_reward_mean&#x27;: {}, &#x27;custom_metrics&#x27;: {}, &#x27;hist_stats&#x27;: {&#x27;episode_reward&#x27;: [-3.0, -3.0], &#x27;episode_lengths&#x27;: [50, 50]}, &#x27;sampler_perf&#x27;: {&#x27;mean_raw_obs_processing_ms&#x27;: 0.31890498753334773, &#x27;mean_inference_ms&#x27;: 0.7384081057986871, &#x27;mean_action_processing_ms&#x27;: 0.10590138092871398, &#x27;mean_env_wait_ms&#x27;: 1.2251437970993382, &#x27;mean_env_render_ms&#x27;: 0.0}, &#x27;num_faulty_episodes&#x27;: 0, &#x27;connector_metrics&#x27;: {&#x27;ObsPreprocessorConnector_ms&#x27;: 0.010728836059570312, &#x27;StateBufferConnector_ms&#x27;: 0.002193450927734375, &#x27;ViewRequirementAgentConnector_ms&#x27;: 0.13778209686279297}}, &#x27;episode_reward_max&#x27;: -3.0, &#x27;episode_reward_min&#x27;: -3.0, &#x27;episode_reward_mean&#x27;: -3.0, &#x27;episode_len_mean&#x27;: 50.0, &#x27;episode_media&#x27;: {}, &#x27;episodes_this_iter&#x27;: 2, &#x27;policy_reward_min&#x27;: {}, &#x27;policy_reward_max&#x27;: {}, &#x27;policy_reward_mean&#x27;: {}, &#x27;custom_metrics&#x27;: {}, &#x27;hist_stats&#x27;: {&#x27;episode_reward&#x27;: [-3.0, -3.0], &#x27;episode_lengths&#x27;: [50, 50]}, &#x27;sampler_perf&#x27;: {&#x27;mean_raw_obs_processing_ms&#x27;: 0.31890498753334773, &#x27;mean_inference_ms&#x27;: 0.7384081057986871, &#x27;mean_action_processing_ms&#x27;: 0.10590138092871398, &#x27;mean_env_wait_ms&#x27;: 1.2251437970993382, &#x27;mean_env_render_ms&#x27;: 0.0}, &#x27;num_faulty_episodes&#x27;: 0, &#x27;connector_metrics&#x27;: {&#x27;ObsPreprocessorConnector_ms&#x27;: 0.010728836059570312, &#x27;StateBufferConnector_ms&#x27;: 0.002193450927734375, &#x27;ViewRequirementAgentConnector_ms&#x27;: 0.13778209686279297}, &#x27;num_agent_steps_sampled_this_iter&#x27;: 100, &#x27;num_env_steps_sampled_this_iter&#x27;: 100, &#x27;timesteps_this_iter&#x27;: 100, &#x27;num_healthy_workers&#x27;: 1, &#x27;num_in_flight_async_reqs&#x27;: 0, &#x27;num_remote_worker_restarts&#x27;: 0}</td><td>{&#x27;learner&#x27;: {&#x27;__all__&#x27;: {&#x27;num_agent_steps_trained&#x27;: 32.0, &#x27;num_env_steps_trained&#x27;: 512.0, &#x27;total_loss&#x27;: 0.018055147273116745}, &#x27;default_policy&#x27;: {&#x27;total_loss&#x27;: 0.018055147273116745, &#x27;policy_loss&#x27;: 0.005945807715761475, &#x27;vf_loss&#x27;: 2.4264388713390872e-05, &#x27;vf_loss_unclipped&#x27;: 2.4264388713390872e-05, &#x27;vf_explained_var&#x27;: -0.4649494020268321, &#x27;entropy&#x27;: -5.537874840199947, &#x27;mean_kl_loss&#x27;: 0.01014102630688285, &#x27;gradients_default_optimizer_global_norm&#x27;: 78.8900484777987, &#x27;curr_lr&#x27;: 0.00015, &#x27;curr_entropy_coeff&#x27;: 0.00015, &#x27;curr_kl_coeff&#x27;: 1.1097886562347412}}, &#x27;num_env_steps_sampled&#x27;: 2560000, &#x27;num_env_steps_trained&#x27;: 0, &#x27;num_agent_steps_sampled&#x27;: 2560000, &#x27;num_agent_steps_trained&#x27;: 0}</td><td style=\"text-align: right;\">                  2560000</td><td style=\"text-align: right;\">                        0</td><td style=\"text-align: right;\">                2560000</td><td style=\"text-align: right;\">                              512</td><td style=\"text-align: right;\">                                      1182</td><td style=\"text-align: right;\">                      0</td><td style=\"text-align: right;\">                                0</td><td style=\"text-align: right;\">                                         0</td><td style=\"text-align: right;\">                    0</td><td style=\"text-align: right;\">                   24</td><td style=\"text-align: right;\">                         0</td><td style=\"text-align: right;\">                           0</td><td style=\"text-align: right;\">                            0</td><td>{&#x27;cpu_util_percent&#x27;: 34.0, &#x27;ram_util_percent&#x27;: 21.5}</td><td>{}                 </td><td>{}                  </td><td>{}                 </td><td>{&#x27;mean_raw_obs_processing_ms&#x27;: 0.6105534488976431, &#x27;mean_inference_ms&#x27;: 1.2193808724415356, &#x27;mean_action_processing_ms&#x27;: 0.16692626646422948, &#x27;mean_env_wait_ms&#x27;: 1.9579638065692206, &#x27;mean_env_render_ms&#x27;: 0.0}</td><td>{&#x27;episode_reward_max&#x27;: -3.0, &#x27;episode_reward_min&#x27;: -14.0, &#x27;episode_reward_mean&#x27;: -3.45, &#x27;episode_len_mean&#x27;: 50.0, &#x27;episode_media&#x27;: {}, &#x27;episodes_this_iter&#x27;: 24, &#x27;policy_reward_min&#x27;: {}, &#x27;policy_reward_max&#x27;: {}, &#x27;policy_reward_mean&#x27;: {}, &#x27;custom_metrics&#x27;: {}, &#x27;hist_stats&#x27;: {&#x27;episode_reward&#x27;: [-4.0, -3.0, -6.0, -3.0, -5.0, -3.0, -3.0, -3.0, -3.0, -4.0, -5.0, -3.0, -3.0, -3.0, -3.0, -3.0, -3.0, -14.0, -7.0, -3.0, -3.0, -3.0, -3.0, -3.0, -3.0, -3.0, -3.0, -3.0, -3.0, -3.0, -3.0, -3.0, -3.0, -4.0, -3.0, -3.0, -6.0, -6.0, -3.0, -3.0, -3.0, -5.0, -3.0, -3.0, -3.0, -3.0, -3.0, -3.0, -3.0, -3.0, -3.0, -3.0, -4.0, -6.0, -4.0, -3.0, -3.0, -3.0, -3.0, -3.0, -6.0, -5.0, -3.0, -3.0, -3.0, -3.0, -3.0, -3.0, -3.0, -3.0, -3.0, -3.0, -3.0, -3.0, -3.0, -3.0, -3.0, -3.0, -3.0, -3.0, -3.0, -3.0, -3.0, -3.0, -3.0, -3.0, -3.0, -3.0, -3.0, -3.0, -3.0, -3.0, -3.0, -3.0, -4.0, -4.0, -3.0, -3.0, -3.0, -3.0], &#x27;episode_lengths&#x27;: [50, 50, 50, 50, 50, 50, 50, 50, 50, 50, 50, 50, 50, 50, 50, 50, 50, 50, 50, 50, 50, 50, 50, 50, 50, 50, 50, 50, 50, 50, 50, 50, 50, 50, 50, 50, 50, 50, 50, 50, 50, 50, 50, 50, 50, 50, 50, 50, 50, 50, 50, 50, 50, 50, 50, 50, 50, 50, 50, 50, 50, 50, 50, 50, 50, 50, 50, 50, 50, 50, 50, 50, 50, 50, 50, 50, 50, 50, 50, 50, 50, 50, 50, 50, 50, 50, 50, 50, 50, 50, 50, 50, 50, 50, 50, 50, 50, 50, 50, 50]}, &#x27;sampler_perf&#x27;: {&#x27;mean_raw_obs_processing_ms&#x27;: 0.6105534488976431, &#x27;mean_inference_ms&#x27;: 1.2193808724415356, &#x27;mean_action_processing_ms&#x27;: 0.16692626646422948, &#x27;mean_env_wait_ms&#x27;: 1.9579638065692206, &#x27;mean_env_render_ms&#x27;: 0.0}, &#x27;num_faulty_episodes&#x27;: 0, &#x27;connector_metrics&#x27;: {&#x27;ObsPreprocessorConnector_ms&#x27;: 0.02183222770690918, &#x27;StateBufferConnector_ms&#x27;: 0.004260063171386719, &#x27;ViewRequirementAgentConnector_ms&#x27;: 0.26619648933410645}}</td><td>{&#x27;training_iteration_time_ms&#x27;: 402.054, &#x27;sample_time_ms&#x27;: 103.15, &#x27;synch_weights_time_ms&#x27;: 10.146}</td></tr>\n",
       "</tbody>\n",
       "</table>\n",
       "</div>\n",
       "<style>\n",
       ".trialProgress {\n",
       "  display: flex;\n",
       "  flex-direction: column;\n",
       "  color: var(--jp-ui-font-color1);\n",
       "}\n",
       ".trialProgress h3 {\n",
       "  font-weight: bold;\n",
       "}\n",
       ".trialProgress td {\n",
       "  white-space: nowrap;\n",
       "}\n",
       "</style>\n"
      ],
      "text/plain": [
       "<IPython.core.display.HTML object>"
      ]
     },
     "metadata": {},
     "output_type": "display_data"
    },
    {
     "name": "stderr",
     "output_type": "stream",
     "text": [
      "2023-08-03 17:03:35,431\tINFO tune.py:1148 -- Total run time: 2182.05 seconds (2180.52 seconds for the tuning loop).\n"
     ]
    },
    {
     "data": {
      "text/plain": [
       "<ray.tune.analysis.experiment_analysis.ExperimentAnalysis at 0x7f3ed2f799d0>"
      ]
     },
     "execution_count": 9,
     "metadata": {},
     "output_type": "execute_result"
    }
   ],
   "source": [
    "tune.run(\"PPO\",\n",
    "             # algorithm specific configuration\n",
    "             config={\"env\": \"Gymnasium_Reach_0_Sparse_Single_Task\",  #\n",
    "                     \"framework\": \"torch\",\n",
    "                     #\"seed\":958,\n",
    "                     \"num_gpus\": 1,\n",
    "                     \"num_rollout_workers\": 24,\n",
    "                     #\"num_envs_per_worker\": 1,\n",
    "                     #\"num_gpus_per_worker\": 0,\n",
    "                     \"train_batch_size\": 512,\n",
    "                     #\"dreamer_train_iters\": 8,\n",
    "                     \"use_critic\":True,\n",
    "                     \"use_gae\": True,\n",
    "                     \"lambda\": 0.99,\n",
    "                     \"sgd_minibatch_size\": 32,\n",
    "                     \"num_sgd_iter\": 8,\n",
    "                     \"shuffle_sequences\": False,\n",
    "                     \"entropy_coeff\": 0.00015,\n",
    "                     \"clip_param\": 0.1,\n",
    "                     \"grad_clip\": 5,\n",
    "                     \"lr\": 0.00015,\n",
    "                     #\"num_cpus_per_worker\": 1,\n",
    "                     #\"model\": {\"custom_model\": \"pa_model\", },\n",
    "                     \"use_lstm\": True,\n",
    "                     \"use_attention\": True,\n",
    "                     \"evaluation_interval\": 1,\n",
    "                     \"evaluation_num_episodes\": 2,\n",
    "                     \"evaluation_parallel_to_training\": True,\n",
    "                     \"evaluation_num_workers\": 1,\n",
    "                     \"disable_env_checking\":True\n",
    "                     },\n",
    "             local_dir=\"../R3L-LOGS\",  # directory to save results\n",
    "             checkpoint_freq=2,  # frequency between checkpoints\n",
    "             keep_checkpoints_num=10,\n",
    "             stop={\"training_iteration\": 5000}\n",
    "             )"
   ]
  },
  {
   "cell_type": "code",
   "execution_count": null,
   "id": "8fba8713-ee7d-4e2a-b138-e210fd7bb8ca",
   "metadata": {},
   "outputs": [],
   "source": []
  },
  {
   "cell_type": "code",
   "execution_count": 49,
   "id": "efc65f04-8fef-42ca-849b-3648432ba34d",
   "metadata": {},
   "outputs": [],
   "source": [
    "env = env_creator({})"
   ]
  },
  {
   "cell_type": "code",
   "execution_count": 50,
   "id": "db3bccea-d18a-436a-bfb8-cf678c6a5eee",
   "metadata": {},
   "outputs": [
    {
     "name": "stderr",
     "output_type": "stream",
     "text": [
      "2023-08-04 10:46:18,261\tWARNING algorithm_config.py:2534 -- Setting `exploration_config={}` because you set `_enable_rl_module_api=True`. When RLModule API are enabled, exploration_config can not be set. If you want to implement custom exploration behaviour, please modify the `forward_exploration` method of the RLModule at hand. On configs that have a default exploration config, this must be done with `config.exploration_config={}`.\n"
     ]
    }
   ],
   "source": [
    "import numpy as np\n",
    "\n",
    "from ray.rllib.policy.policy import Policy     \n",
    "\n",
    "# Use the `from_checkpoint` utility of the Policy class:\n",
    "my_restored_policy = Policy.from_checkpoint(\"../R3L-LOGS/PPO/PPO_Gymnasium_Reach_0_Sparse_Single_Task_3918e_00000_0_2023-08-03_16-27-14/checkpoint_004994/policies/default_policy\")\n",
    "\n",
    "# Use the restored policy for serving actions.\n",
    "obs,  reward, terminated, truncated, info =   env.step(env.action_space.sample())# individual CartPole observation\n",
    "#action = my_restored_policy.compute_single_action(np.append(obs.get('observation'), obs.get('achieved_goal'), obs.get('desired_goal')))\n"
   ]
  },
  {
   "cell_type": "code",
   "execution_count": 51,
   "id": "6eca34c3-e430-4a3a-aecc-3bb9251b895f",
   "metadata": {},
   "outputs": [
    {
     "data": {
      "image/png": "[encoded data removed]",
      "text/plain": [
       "<Figure size 432x288 with 1 Axes>"
      ]
     },
     "metadata": {
      "needs_background": "light"
     },
     "output_type": "display_data"
    }
   ],
   "source": [
    "import matplotlib.pyplot as plt\n",
    "from IPython import display as ipythondisplay\n",
    "img = plt.imshow(env.render())\n",
    "counter = 0\n",
    "for i in range(0, 50):\n",
    "    counter = counter +i\n",
    "    action = my_restored_policy.compute_single_action(np.concatenate([obs.get('observation'), obs.get('desired_goal'), obs.get('achieved_goal')]))\n",
    "\n",
    "    obs,  reward, terminated, truncated, info =   env.step(env.action_space.sample())# individual CartPole observation\n",
    "\n",
    "    '''if counter >=50:\n",
    "        env.reset()\n",
    "        img.set_data(env.render()) # Just update the data\n",
    "        ipythondisplay.display(plt.gcf())\n",
    "        ipythondisplay.clear_output(wait=True)\n",
    "        counter = 0'''\n",
    "\n",
    "    #print(f\"Computed action {action} from given CartPole observation.\")\n",
    "    img.set_data(env.render()) # Just update the data\n",
    "    ipythondisplay.display(plt.gcf())\n",
    "    ipythondisplay.clear_output(wait=True)"
   ]
  },
  {
   "cell_type": "code",
   "execution_count": null,
   "id": "3853aafb-4192-4440-9198-19f09aa6e50e",
   "metadata": {},
   "outputs": [],
   "source": []
  }
 ],
 "metadata": {
  "kernelspec": {
   "display_name": "Python 3",
   "language": "python",
   "name": "python3"
  },
  "language_info": {
   "codemirror_mode": {
    "name": "ipython",
    "version": 3
   },
   "file_extension": ".py",
   "mimetype": "text/x-python",
   "name": "python",
   "nbconvert_exporter": "python",
   "pygments_lexer": "ipython3",
   "version": "3.9.17"
  }
 },
 "nbformat": 4,
 "nbformat_minor": 5
}
