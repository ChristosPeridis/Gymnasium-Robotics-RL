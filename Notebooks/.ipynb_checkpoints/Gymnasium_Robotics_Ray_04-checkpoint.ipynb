{
 "cells": [
  {
   "cell_type": "code",
   "execution_count": null,
   "id": "777e8e8b-d69f-46e4-b6ec-e1bc066d4a02",
   "metadata": {},
   "outputs": [],
   "source": [
    "import os\n",
    "os.environ[\"PROTOCOL_BUFFERS_PYTHON_IMPLEMENTATION\"] = \"python\"\n"
   ]
  },
  {
   "cell_type": "code",
   "execution_count": 1,
   "id": "14cc70ff-09db-477d-8fce-4ff963523d34",
   "metadata": {},
   "outputs": [
    {
     "name": "stderr",
     "output_type": "stream",
     "text": [
      "2023-07-25 14:16:03,829\tINFO worker.py:1612 -- Started a local Ray instance. View the dashboard at \u001b[1m\u001b[32m127.0.0.1:8266 \u001b[39m\u001b[22m\n"
     ]
    },
    {
     "data": {
      "application/vnd.jupyter.widget-view+json": {
       "model_id": "ef61ebb8541240a9bb8bafc443b3ff26",
       "version_major": 2,
       "version_minor": 0
      },
      "text/html": [
       "<div class=\"lm-Widget p-Widget lm-Panel p-Panel jp-Cell-outputWrapper\">\n",
       "    <div style=\"margin-left: 50px;display: flex;flex-direction: row;align-items: center\">\n",
       "        <div class=\"jp-RenderedHTMLCommon\" style=\"display: flex; flex-direction: row;\">\n",
       "  <svg viewBox=\"0 0 567 224\" fill=\"none\" xmlns=\"http://www.w3.org/2000/svg\" style=\"height: 3em;\">\n",
       "    <g clip-path=\"url(#clip0_4338_178347)\">\n",
       "        <path d=\"M341.29 165.561H355.29L330.13 129.051C345.63 123.991 354.21 112.051 354.21 94.2307C354.21 71.3707 338.72 58.1807 311.88 58.1807H271V165.561H283.27V131.661H311.8C314.25 131.661 316.71 131.501 319.01 131.351L341.25 165.561H341.29ZM283.29 119.851V70.0007H311.82C331.3 70.0007 342.34 78.2907 342.34 94.5507C342.34 111.271 331.34 119.861 311.82 119.861L283.29 119.851ZM451.4 138.411L463.4 165.561H476.74L428.74 58.1807H416L367.83 165.561H380.83L392.83 138.411H451.4ZM446.19 126.601H398L422 72.1407L446.24 126.601H446.19ZM526.11 128.741L566.91 58.1807H554.35L519.99 114.181L485.17 58.1807H472.44L514.01 129.181V165.541H526.13V128.741H526.11Z\" fill=\"var(--jp-ui-font-color0)\"/>\n",
       "        <path d=\"M82.35 104.44C84.0187 97.8827 87.8248 92.0678 93.1671 87.9146C98.5094 83.7614 105.083 81.5067 111.85 81.5067C118.617 81.5067 125.191 83.7614 130.533 87.9146C135.875 92.0678 139.681 97.8827 141.35 104.44H163.75C164.476 101.562 165.622 98.8057 167.15 96.2605L127.45 56.5605C121.071 60.3522 113.526 61.6823 106.235 60.3005C98.9443 58.9187 92.4094 54.9203 87.8602 49.0574C83.3109 43.1946 81.0609 35.8714 81.5332 28.4656C82.0056 21.0599 85.1679 14.0819 90.4252 8.8446C95.6824 3.60726 102.672 0.471508 110.08 0.0272655C117.487 -0.416977 124.802 1.86091 130.647 6.4324C136.493 11.0039 140.467 17.5539 141.821 24.8501C143.175 32.1463 141.816 39.6859 138 46.0505L177.69 85.7505C182.31 82.9877 187.58 81.4995 192.962 81.4375C198.345 81.3755 203.648 82.742 208.33 85.3976C213.012 88.0532 216.907 91.9029 219.616 96.5544C222.326 101.206 223.753 106.492 223.753 111.875C223.753 117.258 222.326 122.545 219.616 127.197C216.907 131.848 213.012 135.698 208.33 138.353C203.648 141.009 198.345 142.375 192.962 142.313C187.58 142.251 182.31 140.763 177.69 138L138 177.7C141.808 184.071 143.155 191.614 141.79 198.91C140.424 206.205 136.44 212.75 130.585 217.313C124.731 221.875 117.412 224.141 110.004 223.683C102.596 223.226 95.6103 220.077 90.3621 214.828C85.1139 209.58 81.9647 202.595 81.5072 195.187C81.0497 187.779 83.3154 180.459 87.878 174.605C92.4405 168.751 98.9853 164.766 106.281 163.401C113.576 162.035 121.119 163.383 127.49 167.19L167.19 127.49C165.664 124.941 164.518 122.182 163.79 119.3H141.39C139.721 125.858 135.915 131.673 130.573 135.826C125.231 139.98 118.657 142.234 111.89 142.234C105.123 142.234 98.5494 139.98 93.2071 135.826C87.8648 131.673 84.0587 125.858 82.39 119.3H60C58.1878 126.495 53.8086 132.78 47.6863 136.971C41.5641 141.163 34.1211 142.972 26.7579 142.059C19.3947 141.146 12.6191 137.574 7.70605 132.014C2.79302 126.454 0.0813599 119.29 0.0813599 111.87C0.0813599 104.451 2.79302 97.2871 7.70605 91.7272C12.6191 86.1673 19.3947 82.5947 26.7579 81.6817C34.1211 80.7686 41.5641 82.5781 47.6863 86.7696C53.8086 90.9611 58.1878 97.2456 60 104.44H82.35ZM100.86 204.32C103.407 206.868 106.759 208.453 110.345 208.806C113.93 209.159 117.527 208.258 120.522 206.256C123.517 204.254 125.725 201.276 126.771 197.828C127.816 194.38 127.633 190.677 126.253 187.349C124.874 184.021 122.383 181.274 119.205 179.577C116.027 177.88 112.359 177.337 108.826 178.042C105.293 178.746 102.113 180.654 99.8291 183.44C97.5451 186.226 96.2979 189.718 96.3 193.32C96.2985 195.364 96.7006 197.388 97.4831 199.275C98.2656 201.163 99.4132 202.877 100.86 204.32ZM204.32 122.88C206.868 120.333 208.453 116.981 208.806 113.396C209.159 109.811 208.258 106.214 206.256 103.219C204.254 100.223 201.275 98.0151 197.827 96.97C194.38 95.9249 190.676 96.1077 187.348 97.4873C184.02 98.8669 181.274 101.358 179.577 104.536C177.879 107.714 177.337 111.382 178.041 114.915C178.746 118.448 180.653 121.627 183.439 123.911C186.226 126.195 189.717 127.443 193.32 127.44C195.364 127.443 197.388 127.042 199.275 126.259C201.163 125.476 202.878 124.328 204.32 122.88ZM122.88 19.4205C120.333 16.8729 116.981 15.2876 113.395 14.9347C109.81 14.5817 106.213 15.483 103.218 17.4849C100.223 19.4868 98.0146 22.4654 96.9696 25.9131C95.9245 29.3608 96.1073 33.0642 97.4869 36.3922C98.8665 39.7202 101.358 42.4668 104.535 44.1639C107.713 45.861 111.381 46.4036 114.914 45.6992C118.447 44.9949 121.627 43.0871 123.911 40.301C126.195 37.515 127.442 34.0231 127.44 30.4205C127.44 28.3772 127.038 26.3539 126.255 24.4664C125.473 22.5788 124.326 20.8642 122.88 19.4205ZM19.42 100.86C16.8725 103.408 15.2872 106.76 14.9342 110.345C14.5813 113.93 15.4826 117.527 17.4844 120.522C19.4863 123.518 22.4649 125.726 25.9127 126.771C29.3604 127.816 33.0638 127.633 36.3918 126.254C39.7198 124.874 42.4664 122.383 44.1635 119.205C45.8606 116.027 46.4032 112.359 45.6988 108.826C44.9944 105.293 43.0866 102.114 40.3006 99.8296C37.5145 97.5455 34.0227 96.2983 30.42 96.3005C26.2938 96.3018 22.337 97.9421 19.42 100.86ZM100.86 100.86C98.3125 103.408 96.7272 106.76 96.3742 110.345C96.0213 113.93 96.9226 117.527 98.9244 120.522C100.926 123.518 103.905 125.726 107.353 126.771C110.8 127.816 114.504 127.633 117.832 126.254C121.16 124.874 123.906 122.383 125.604 119.205C127.301 116.027 127.843 112.359 127.139 108.826C126.434 105.293 124.527 102.114 121.741 99.8296C118.955 97.5455 115.463 96.2983 111.86 96.3005C109.817 96.299 107.793 96.701 105.905 97.4835C104.018 98.2661 102.303 99.4136 100.86 100.86Z\" fill=\"#00AEEF\"/>\n",
       "    </g>\n",
       "    <defs>\n",
       "        <clipPath id=\"clip0_4338_178347\">\n",
       "            <rect width=\"566.93\" height=\"223.75\" fill=\"white\"/>\n",
       "        </clipPath>\n",
       "    </defs>\n",
       "  </svg>\n",
       "</div>\n",
       "\n",
       "        <table class=\"jp-RenderedHTMLCommon\" style=\"border-collapse: collapse;color: var(--jp-ui-font-color1);font-size: var(--jp-ui-font-size1);\">\n",
       "    <tr>\n",
       "        <td style=\"text-align: left\"><b>Python version:</b></td>\n",
       "        <td style=\"text-align: left\"><b>3.9.17</b></td>\n",
       "    </tr>\n",
       "    <tr>\n",
       "        <td style=\"text-align: left\"><b>Ray version:</b></td>\n",
       "        <td style=\"text-align: left\"><b>2.6.1</b></td>\n",
       "    </tr>\n",
       "    <tr>\n",
       "    <td style=\"text-align: left\"><b>Dashboard:</b></td>\n",
       "    <td style=\"text-align: left\"><b><a href=\"http://127.0.0.1:8266\" target=\"_blank\">http://127.0.0.1:8266</a></b></td>\n",
       "</tr>\n",
       "\n",
       "</table>\n",
       "\n",
       "    </div>\n",
       "</div>\n"
      ],
      "text/plain": [
       "RayContext(dashboard_url='127.0.0.1:8266', python_version='3.9.17', ray_version='2.6.1', ray_commit='d68bf04883af2e430fc3a50fd544bb7c84aff2e9', protocol_version=None)"
      ]
     },
     "execution_count": 1,
     "metadata": {},
     "output_type": "execute_result"
    }
   ],
   "source": [
    "import ray\n",
    "ray.init(num_gpus=1)"
   ]
  },
  {
   "cell_type": "code",
   "execution_count": 2,
   "id": "d18ddbaf-bf7d-41e8-a54d-2dff0294b8f2",
   "metadata": {},
   "outputs": [
    {
     "name": "stdout",
     "output_type": "stream",
     "text": [
      "{'GPU': 1.0, 'object_store_memory': 1401102336.0, 'node:172.21.2.236': 1.0, 'CPU': 20.0, 'memory': 2802204672.0, 'node:__internal_head__': 1.0}\n"
     ]
    }
   ],
   "source": [
    "resources = ray.cluster_resources()\n",
    "print(resources)"
   ]
  },
  {
   "cell_type": "code",
   "execution_count": null,
   "id": "a4568b72-e993-494f-9b1b-084c505fde37",
   "metadata": {},
   "outputs": [],
   "source": [
    "#env = gym.make('FrankaPickPlaceFixed-v0')"
   ]
  },
  {
   "cell_type": "code",
   "execution_count": null,
   "id": "965dcd2f-1e47-4465-8e6b-29747f334cac",
   "metadata": {},
   "outputs": [],
   "source": [
    "import gymnasium as gym\n",
    "env = gym.make('FetchPickAndPlace-v2', max_episode_steps=100)"
   ]
  },
  {
   "cell_type": "code",
   "execution_count": null,
   "id": "11df0596-0f79-4de7-bcc3-31fade2b1a08",
   "metadata": {},
   "outputs": [],
   "source": [
    "observation, info = env.reset()"
   ]
  },
  {
   "cell_type": "code",
   "execution_count": null,
   "id": "b1351bfa-75b6-4434-8d78-f231e4f17cab",
   "metadata": {},
   "outputs": [],
   "source": [
    "observation"
   ]
  },
  {
   "cell_type": "code",
   "execution_count": null,
   "id": "1aaa6c20-c0d7-43c8-b580-bd5eccfb19e9",
   "metadata": {},
   "outputs": [],
   "source": [
    "info"
   ]
  },
  {
   "cell_type": "code",
   "execution_count": null,
   "id": "11e38694-4e14-4def-a32f-01217abd8222",
   "metadata": {},
   "outputs": [],
   "source": [
    "obs = observation[0]\n",
    "print(obs)\n",
    "obs = obs.get(\"observation\")\n",
    "print()\n",
    "print(obs)"
   ]
  },
  {
   "cell_type": "code",
   "execution_count": null,
   "id": "b3edcaec-5076-46d5-84cf-e12845e70d91",
   "metadata": {},
   "outputs": [],
   "source": [
    "obs, reward, terminated, truncated, info = env.step(env.action_space.sample())"
   ]
  },
  {
   "cell_type": "code",
   "execution_count": null,
   "id": "104ffabc-6383-4604-9504-e856c136a2f0",
   "metadata": {},
   "outputs": [],
   "source": [
    "obs"
   ]
  },
  {
   "cell_type": "code",
   "execution_count": null,
   "id": "15b21423-e3df-435b-b45a-5435d6c5971f",
   "metadata": {},
   "outputs": [],
   "source": [
    "type(obs.get(\"observation\"))"
   ]
  },
  {
   "cell_type": "code",
   "execution_count": null,
   "id": "b6002afd-7e45-4a97-a606-701fc48ae5a6",
   "metadata": {},
   "outputs": [],
   "source": [
    "obsr = obs.get(\"observation\")\n",
    "obsag = obs.get(\"achieved_goal\")\n",
    "obsdg = obs.get(\"desired_goal\")\n",
    "\n",
    "observationFull = np.concatenate((obsr, obsag, obsdg), axis=0)\n",
    "print(\"Full Observation:\", observationFull)"
   ]
  },
  {
   "cell_type": "code",
   "execution_count": null,
   "id": "59e28ba7-1abc-4c5c-b6b2-f53d5810f4f2",
   "metadata": {},
   "outputs": [],
   "source": [
    "import numpy as np"
   ]
  },
  {
   "cell_type": "code",
   "execution_count": null,
   "id": "abc5ceba-ccc8-4131-aab1-ef5773098151",
   "metadata": {},
   "outputs": [],
   "source": [
    "a = np.array([1, 2, 3])\n",
    "b = np.array([4, 5])\n",
    "q = np.concatenate((a, b), axis=0)\n",
    "print(\"q = \", q)"
   ]
  },
  {
   "cell_type": "code",
   "execution_count": null,
   "id": "f060cdc9-0b4d-4b96-82c5-592ea6a9f263",
   "metadata": {},
   "outputs": [],
   "source": [
    "import cloudpickle\n",
    "from gymnasium import Wrapper, spaces\n",
    "import numpy as np\n",
    "#from ray.tune.registry import register_env\n",
    "\n",
    "# Assuming `FrankaPickPlaceRandom_v2d-v0` comes from `your_custom_environment_library`\n",
    "#import gymnasium as gym\n",
    "\n",
    "class CustomWrapper(Wrapper):\n",
    "    def __init__(self, env):\n",
    "        super().__init__(env)\n",
    "\n",
    "        # Override observation space\n",
    "        self.observation_space = spaces.Box(low=-10_000, high=10_000, shape=(31,), dtype=float64)\n",
    "        #self.env.observation_space = spaces.Box(low=0, high=255, shape=(224, 224, 3), dtype=np.uint8)\n",
    "        #self.reward_space = spaces.Box(low=-100_000, high=100_000, shape=(), dtype=np.float32)\n",
    "        #self.env.rewards\n",
    "\n",
    "\n",
    "\n",
    "    def step(self, action):\n",
    "        #observation, reward, done, info = self.env.step(action)\n",
    "        #observation = self.env.get_obs(update_exteroception=True)\n",
    "        #observation = self.env.visual_dict.get('rgb:top_cam:224x224:2d')\n",
    "        \n",
    "        # Do some processing here\n",
    "        obs, reward, terminated, truncated, info = self.env.step(action)\n",
    "        obs_proprioception = obs.get(\"observation\")\n",
    "        obs_achieved_goal = obs.get(\"achieved_goal\")\n",
    "        obs_desired_goal = obs.get(\"desired_goal\")\n",
    "\n",
    "        observation = np.concatenate((obs_proprioception, obs_achieved_goal, obs_desired_goal), axis=0)\n",
    "\n",
    "        return observation, reward, terminated, truncated, info\n",
    "\n",
    "    def reset(self, **kwargs):\n",
    "        observation, info = self.env.reset(**kwargs)\n",
    "\n",
    "        #self.env.get_obs(update_exteroception=True)\n",
    "        observation = observation.get(\"observation\")#observation = self.env.visual_dict.get('rgb:top_cam:224x224:2d')\n",
    "\n",
    "        return observation, info\n",
    "\n"
   ]
  },
  {
   "cell_type": "code",
   "execution_count": null,
   "id": "087f10c3-a3f6-41f0-943c-258bc610510e",
   "metadata": {},
   "outputs": [],
   "source": [
    "import gymnasium as gym\n",
    "env = gym.make('FetchPickAndPlace-v2', max_episode_steps=100)\n",
    "env = CustomWrapper(env)"
   ]
  },
  {
   "cell_type": "code",
   "execution_count": null,
   "id": "4cfd9277-7a2d-47c4-9007-03692645640a",
   "metadata": {},
   "outputs": [],
   "source": [
    "obs, info = env.reset()"
   ]
  },
  {
   "cell_type": "code",
   "execution_count": null,
   "id": "e0ef6234-7aa5-43ae-bcff-1a6b7faf0d56",
   "metadata": {},
   "outputs": [],
   "source": [
    "info"
   ]
  },
  {
   "cell_type": "code",
   "execution_count": null,
   "id": "db0a6d98-d1f7-44cc-91ee-da96d51b5bad",
   "metadata": {},
   "outputs": [],
   "source": [
    "obs"
   ]
  },
  {
   "cell_type": "code",
   "execution_count": null,
   "id": "2063a89e-b3f7-4699-9f7c-f657713aa386",
   "metadata": {},
   "outputs": [],
   "source": [
    "obs, reward, terminated, truncated, info = env.step(env.action_space.sample())"
   ]
  },
  {
   "cell_type": "code",
   "execution_count": null,
   "id": "0dc09653-c84f-4f10-8fb2-49d350c0aaf5",
   "metadata": {},
   "outputs": [],
   "source": [
    "obs"
   ]
  },
  {
   "cell_type": "code",
   "execution_count": 7,
   "id": "355ad143-d043-4d2d-a824-f97890dea887",
   "metadata": {},
   "outputs": [],
   "source": [
    "def env_creator(env_config={}):\n",
    "    import gymnasium as gym\n",
    "    env = gym.make('FetchPickAndPlace-v2', max_episode_steps=100)\n",
    "    #env = CustomWrapper(env)\n",
    "    env.reset()\n",
    "    return env"
   ]
  },
  {
   "cell_type": "code",
   "execution_count": 8,
   "id": "bd8bf628-1cad-48fe-b88a-1054b1bf2183",
   "metadata": {},
   "outputs": [],
   "source": [
    "from ray.tune.registry import register_env\n",
    "register_env(\"Gymnasium_Pick_Place_0\", env_creator)"
   ]
  },
  {
   "cell_type": "code",
   "execution_count": null,
   "id": "1f594feb-3a7c-4e0b-bbed-1e1e2d95e14c",
   "metadata": {},
   "outputs": [],
   "source": [
    "# Serialize with cloudpickle and save to a file\n",
    "#with open(\"Gymnasium_Pick_Place_0.pkl\", \"wb\") as f:\n",
    "   # cloudpickle.dump(env_creator, f)"
   ]
  },
  {
   "cell_type": "code",
   "execution_count": 9,
   "id": "c730fc0d-84e7-4a7a-9473-93d2988db9dd",
   "metadata": {},
   "outputs": [],
   "source": [
    "from ray import tune"
   ]
  },
  {
   "cell_type": "code",
   "execution_count": 10,
   "id": "421ff420-35f5-4a34-b7a8-99f0fece4129",
   "metadata": {},
   "outputs": [
    {
     "name": "stderr",
     "output_type": "stream",
     "text": [
      "2023-07-25 15:52:03,594\tINFO tune.py:657 -- [output] This uses the legacy output and progress reporter, as Jupyter notebooks are not supported by the new engine, yet. For more information, please see https://github.com/ray-project/ray/issues/36949\n",
      "/home/cocp5/anaconda3/envs/gmnsmRoboRLdev/lib/python3.9/site-packages/ray/tune/tune.py:258: UserWarning: Passing a `local_dir` is deprecated and will be removed in the future. Pass `storage_path` instead or set the `RAY_AIR_LOCAL_CACHE_DIR` environment variable instead.\n",
      "  warnings.warn(\n"
     ]
    },
    {
     "data": {
      "text/html": [
       "<div class=\"tuneStatus\">\n",
       "  <div style=\"display: flex;flex-direction: row\">\n",
       "    <div style=\"display: flex;flex-direction: column;\">\n",
       "      <h3>Tune Status</h3>\n",
       "      <table>\n",
       "<tbody>\n",
       "<tr><td>Current time:</td><td>2023-07-25 16:24:18</td></tr>\n",
       "<tr><td>Running for: </td><td>00:32:15.11        </td></tr>\n",
       "<tr><td>Memory:      </td><td>7.1/7.6 GiB        </td></tr>\n",
       "</tbody>\n",
       "</table>\n",
       "    </div>\n",
       "    <div class=\"vDivider\"></div>\n",
       "    <div class=\"systemInfo\">\n",
       "      <h3>System Info</h3>\n",
       "      Using FIFO scheduling algorithm.<br>Logical resource usage: 1.0/20 CPUs, 0/1 GPUs\n",
       "    </div>\n",
       "    <div class=\"vDivider\"></div>\n",
       "<div class=\"messages\">\n",
       "  <h3>Messages</h3>\n",
       "  : ***LOW MEMORY*** less than 10% of the memory on this node is available for use. This can cause unexpected crashes. Consider reducing the memory used by your application or reducing the Ray object store size by setting `object_store_memory` when calling `ray.init`.\n",
       "  \n",
       "  \n",
       "</div>\n",
       "<style>\n",
       ".messages {\n",
       "  color: var(--jp-ui-font-color1);\n",
       "  display: flex;\n",
       "  flex-direction: column;\n",
       "  padding-left: 1em;\n",
       "  overflow-y: auto;\n",
       "}\n",
       ".messages h3 {\n",
       "  font-weight: bold;\n",
       "}\n",
       ".vDivider {\n",
       "  border-left-width: var(--jp-border-width);\n",
       "  border-left-color: var(--jp-border-color0);\n",
       "  border-left-style: solid;\n",
       "  margin: 0.5em 1em 0.5em 1em;\n",
       "}\n",
       "</style>\n",
       "\n",
       "  </div>\n",
       "  <div class=\"hDivider\"></div>\n",
       "  <div class=\"trialStatus\">\n",
       "    <h3>Trial Status</h3>\n",
       "    <table>\n",
       "<thead>\n",
       "<tr><th>Trial name                            </th><th>status  </th><th>loc               </th><th style=\"text-align: right;\">  iter</th><th style=\"text-align: right;\">  total time (s)</th><th style=\"text-align: right;\">    ts</th><th style=\"text-align: right;\">  reward</th><th style=\"text-align: right;\">  episode_reward_max</th><th style=\"text-align: right;\">  episode_reward_min</th><th style=\"text-align: right;\">  episode_len_mean</th></tr>\n",
       "</thead>\n",
       "<tbody>\n",
       "<tr><td>PPO_Gymnasium_Pick_Place_0_d144a_00000</td><td>RUNNING </td><td>172.21.2.236:89162</td><td style=\"text-align: right;\">   873</td><td style=\"text-align: right;\">         1897.49</td><td style=\"text-align: right;\">446976</td><td style=\"text-align: right;\">     -94</td><td style=\"text-align: right;\">                   0</td><td style=\"text-align: right;\">                -100</td><td style=\"text-align: right;\">               100</td></tr>\n",
       "</tbody>\n",
       "</table>\n",
       "  </div>\n",
       "</div>\n",
       "<style>\n",
       ".tuneStatus {\n",
       "  color: var(--jp-ui-font-color1);\n",
       "}\n",
       ".tuneStatus .systemInfo {\n",
       "  display: flex;\n",
       "  flex-direction: column;\n",
       "}\n",
       ".tuneStatus td {\n",
       "  white-space: nowrap;\n",
       "}\n",
       ".tuneStatus .trialStatus {\n",
       "  display: flex;\n",
       "  flex-direction: column;\n",
       "}\n",
       ".tuneStatus h3 {\n",
       "  font-weight: bold;\n",
       "}\n",
       ".tuneStatus .hDivider {\n",
       "  border-bottom-width: var(--jp-border-width);\n",
       "  border-bottom-color: var(--jp-border-color0);\n",
       "  border-bottom-style: solid;\n",
       "}\n",
       ".tuneStatus .vDivider {\n",
       "  border-left-width: var(--jp-border-width);\n",
       "  border-left-color: var(--jp-border-color0);\n",
       "  border-left-style: solid;\n",
       "  margin: 0.5em 1em 0.5em 1em;\n",
       "}\n",
       "</style>\n"
      ],
      "text/plain": [
       "<IPython.core.display.HTML object>"
      ]
     },
     "metadata": {},
     "output_type": "display_data"
    },
    {
     "name": "stderr",
     "output_type": "stream",
     "text": [
      "2023-07-25 15:52:03,635\tWARNING algorithm_config.py:2534 -- Setting `exploration_config={}` because you set `_enable_rl_module_api=True`. When RLModule API are enabled, exploration_config can not be set. If you want to implement custom exploration behaviour, please modify the `forward_exploration` method of the RLModule at hand. On configs that have a default exploration config, this must be done with `config.exploration_config={}`.\n",
      "2023-07-25 15:52:03,636\tWARNING deprecation.py:50 -- DeprecationWarning: `AlgorithmConfig.evaluation(evaluation_num_episodes=..)` has been deprecated. Use `AlgorithmConfig.evaluation(evaluation_duration=.., evaluation_duration_unit='episodes')` instead. This will raise an error in the future!\n",
      "\u001b[2m\u001b[36m(pid=89162)\u001b[0m DeprecationWarning: `DirectStepOptimizer` has been deprecated. This will raise an error in the future!\n",
      "\u001b[2m\u001b[36m(PPO pid=89162)\u001b[0m 2023-07-25 15:52:08,674\tWARNING algorithm_config.py:2534 -- Setting `exploration_config={}` because you set `_enable_rl_module_api=True`. When RLModule API are enabled, exploration_config can not be set. If you want to implement custom exploration behaviour, please modify the `forward_exploration` method of the RLModule at hand. On configs that have a default exploration config, this must be done with `config.exploration_config={}`.\n",
      "\u001b[2m\u001b[36m(PPO pid=89162)\u001b[0m 2023-07-25 15:52:08,674\tWARNING algorithm_config.py:656 -- Cannot create PPOConfig from given `config_dict`! Property __stdout_file__ not supported.\n",
      "\u001b[2m\u001b[36m(PPO pid=89162)\u001b[0m 2023-07-25 15:52:08,674\tWARNING deprecation.py:50 -- DeprecationWarning: `AlgorithmConfig.evaluation(evaluation_num_episodes=..)` has been deprecated. Use `AlgorithmConfig.evaluation(evaluation_duration=.., evaluation_duration_unit='episodes')` instead. This will raise an error in the future!\n",
      "\u001b[2m\u001b[36m(PPO pid=89162)\u001b[0m /home/cocp5/anaconda3/envs/gmnsmRoboRLdev/lib/python3.9/site-packages/gymnasium/core.py:297: UserWarning: \u001b[33mWARN: env.single_observation_space to get variables from other wrappers is deprecated and will be removed in v1.0, to get this variable you can do `env.unwrapped.single_observation_space` for environment variables or `env.get_attr('single_observation_space')` that will search the reminding wrappers.\u001b[0m\n",
      "\u001b[2m\u001b[36m(PPO pid=89162)\u001b[0m   logger.warn(\n",
      "\u001b[2m\u001b[36m(PPO pid=89162)\u001b[0m /home/cocp5/anaconda3/envs/gmnsmRoboRLdev/lib/python3.9/site-packages/gymnasium/core.py:297: UserWarning: \u001b[33mWARN: env.single_action_space to get variables from other wrappers is deprecated and will be removed in v1.0, to get this variable you can do `env.unwrapped.single_action_space` for environment variables or `env.get_attr('single_action_space')` that will search the reminding wrappers.\u001b[0m\n",
      "\u001b[2m\u001b[36m(PPO pid=89162)\u001b[0m   logger.warn(\n",
      "\u001b[2m\u001b[36m(PPO pid=89162)\u001b[0m 2023-07-25 15:52:08,862\tWARNING algorithm_config.py:2534 -- Setting `exploration_config={}` because you set `_enable_rl_module_api=True`. When RLModule API are enabled, exploration_config can not be set. If you want to implement custom exploration behaviour, please modify the `forward_exploration` method of the RLModule at hand. On configs that have a default exploration config, this must be done with `config.exploration_config={}`.\n",
      "\u001b[2m\u001b[36m(PPO pid=89162)\u001b[0m 2023-07-25 15:52:08,877\tWARNING deprecation.py:50 -- DeprecationWarning: `ValueNetworkMixin` has been deprecated. This will raise an error in the future!\n",
      "\u001b[2m\u001b[36m(PPO pid=89162)\u001b[0m 2023-07-25 15:52:08,877\tWARNING deprecation.py:50 -- DeprecationWarning: `LearningRateSchedule` has been deprecated. This will raise an error in the future!\n",
      "\u001b[2m\u001b[36m(PPO pid=89162)\u001b[0m 2023-07-25 15:52:08,877\tWARNING deprecation.py:50 -- DeprecationWarning: `EntropyCoeffSchedule` has been deprecated. This will raise an error in the future!\n",
      "\u001b[2m\u001b[36m(PPO pid=89162)\u001b[0m 2023-07-25 15:52:08,877\tWARNING deprecation.py:50 -- DeprecationWarning: `KLCoeffMixin` has been deprecated. This will raise an error in the future!\n",
      "\u001b[2m\u001b[36m(PPO pid=89162)\u001b[0m 2023-07-25 15:52:08,964\tWARNING algorithm_config.py:2534 -- Setting `exploration_config={}` because you set `_enable_rl_module_api=True`. When RLModule API are enabled, exploration_config can not be set. If you want to implement custom exploration behaviour, please modify the `forward_exploration` method of the RLModule at hand. On configs that have a default exploration config, this must be done with `config.exploration_config={}`.\n",
      "\u001b[2m\u001b[36m(PPO pid=89162)\u001b[0m Install gputil for GPU system monitoring.\n"
     ]
    },
    {
     "data": {
      "text/html": [
       "<div class=\"trialProgress\">\n",
       "  <h3>Trial Progress</h3>\n",
       "  <table>\n",
       "<thead>\n",
       "<tr><th>Trial name                            </th><th style=\"text-align: right;\">  agent_timesteps_total</th><th>connector_metrics                                                                                                                                              </th><th>counters                                                                                                                      </th><th>custom_metrics  </th><th style=\"text-align: right;\">  episode_len_mean</th><th>episode_media  </th><th style=\"text-align: right;\">  episode_reward_max</th><th style=\"text-align: right;\">  episode_reward_mean</th><th style=\"text-align: right;\">  episode_reward_min</th><th style=\"text-align: right;\">  episodes_this_iter</th><th>evaluation                                                                                                                                                                                                                                                                                                                                                                                                                                                                                                                                                                                                                                                                                                                                                                                                                                                                                                                                                                                                                                                                                                                                                                                                                                                                                                                                                                                                                                                                                                                                                                                                                                                                                                                                                                                                                             </th><th>info                                                                                                                                                                                                                                                                                                                                                                                                                                                                                                                                                                                                                                                                                                        </th><th style=\"text-align: right;\">  num_agent_steps_sampled</th><th style=\"text-align: right;\">  num_agent_steps_trained</th><th style=\"text-align: right;\">  num_env_steps_sampled</th><th style=\"text-align: right;\">  num_env_steps_sampled_this_iter</th><th style=\"text-align: right;\">  num_env_steps_sampled_throughput_per_sec</th><th style=\"text-align: right;\">  num_env_steps_trained</th><th style=\"text-align: right;\">  num_env_steps_trained_this_iter</th><th style=\"text-align: right;\">  num_env_steps_trained_throughput_per_sec</th><th style=\"text-align: right;\">  num_faulty_episodes</th><th style=\"text-align: right;\">  num_healthy_workers</th><th style=\"text-align: right;\">  num_in_flight_async_reqs</th><th style=\"text-align: right;\">  num_remote_worker_restarts</th><th style=\"text-align: right;\">  num_steps_trained_this_iter</th><th>perf                                                              </th><th>policy_reward_max  </th><th>policy_reward_mean  </th><th>policy_reward_min  </th><th>sampler_perf                                                                                                                                                                                                     </th><th>sampler_results                                                                                                                                                                                                                                                                                                                                                                                                                                                                                                                                                                                                                                                                                                                                                                                                                                                                                                                                                                                                                                                                                                                                                                                                                                                                                                                                                                                                                                                                                                                                                                                                                                                                                                                                                                                                                                                                                                                                                                                                                                                                                                    </th><th>timers                                                                                             </th></tr>\n",
       "</thead>\n",
       "<tbody>\n",
       "<tr><td>PPO_Gymnasium_Pick_Place_0_d144a_00000</td><td style=\"text-align: right;\">                 447488</td><td>{&#x27;ObsPreprocessorConnector_ms&#x27;: 0.020469188690185547, &#x27;StateBufferConnector_ms&#x27;: 0.0034513473510742188, &#x27;ViewRequirementAgentConnector_ms&#x27;: 0.1869511604309082}</td><td>{&#x27;num_env_steps_sampled&#x27;: 447488, &#x27;num_env_steps_trained&#x27;: 0, &#x27;num_agent_steps_sampled&#x27;: 447488, &#x27;num_agent_steps_trained&#x27;: 0}</td><td>{}              </td><td style=\"text-align: right;\">               100</td><td>{}             </td><td style=\"text-align: right;\">                   0</td><td style=\"text-align: right;\">                  -95</td><td style=\"text-align: right;\">                -100</td><td style=\"text-align: right;\">                   5</td><td>{&#x27;sampler_results&#x27;: {&#x27;episode_reward_max&#x27;: 0.0, &#x27;episode_reward_min&#x27;: -100.0, &#x27;episode_reward_mean&#x27;: -50.0, &#x27;episode_len_mean&#x27;: 100.0, &#x27;episode_media&#x27;: {}, &#x27;episodes_this_iter&#x27;: 2, &#x27;policy_reward_min&#x27;: {}, &#x27;policy_reward_max&#x27;: {}, &#x27;policy_reward_mean&#x27;: {}, &#x27;custom_metrics&#x27;: {}, &#x27;hist_stats&#x27;: {&#x27;episode_reward&#x27;: [0.0, -100.0], &#x27;episode_lengths&#x27;: [100, 100]}, &#x27;sampler_perf&#x27;: {&#x27;mean_raw_obs_processing_ms&#x27;: 0.29343595663032673, &#x27;mean_inference_ms&#x27;: 0.7671430200528804, &#x27;mean_action_processing_ms&#x27;: 0.11334033063701668, &#x27;mean_env_wait_ms&#x27;: 1.3585243044184272, &#x27;mean_env_render_ms&#x27;: 0.0}, &#x27;num_faulty_episodes&#x27;: 0, &#x27;connector_metrics&#x27;: {&#x27;ObsPreprocessorConnector_ms&#x27;: 0.018453598022460938, &#x27;StateBufferConnector_ms&#x27;: 0.002956390380859375, &#x27;ViewRequirementAgentConnector_ms&#x27;: 0.18447637557983398}}, &#x27;episode_reward_max&#x27;: 0.0, &#x27;episode_reward_min&#x27;: -100.0, &#x27;episode_reward_mean&#x27;: -50.0, &#x27;episode_len_mean&#x27;: 100.0, &#x27;episode_media&#x27;: {}, &#x27;episodes_this_iter&#x27;: 2, &#x27;policy_reward_min&#x27;: {}, &#x27;policy_reward_max&#x27;: {}, &#x27;policy_reward_mean&#x27;: {}, &#x27;custom_metrics&#x27;: {}, &#x27;hist_stats&#x27;: {&#x27;episode_reward&#x27;: [0.0, -100.0], &#x27;episode_lengths&#x27;: [100, 100]}, &#x27;sampler_perf&#x27;: {&#x27;mean_raw_obs_processing_ms&#x27;: 0.29343595663032673, &#x27;mean_inference_ms&#x27;: 0.7671430200528804, &#x27;mean_action_processing_ms&#x27;: 0.11334033063701668, &#x27;mean_env_wait_ms&#x27;: 1.3585243044184272, &#x27;mean_env_render_ms&#x27;: 0.0}, &#x27;num_faulty_episodes&#x27;: 0, &#x27;connector_metrics&#x27;: {&#x27;ObsPreprocessorConnector_ms&#x27;: 0.018453598022460938, &#x27;StateBufferConnector_ms&#x27;: 0.002956390380859375, &#x27;ViewRequirementAgentConnector_ms&#x27;: 0.18447637557983398}, &#x27;num_agent_steps_sampled_this_iter&#x27;: 200, &#x27;num_env_steps_sampled_this_iter&#x27;: 200, &#x27;timesteps_this_iter&#x27;: 200, &#x27;num_healthy_workers&#x27;: 0, &#x27;num_in_flight_async_reqs&#x27;: 0, &#x27;num_remote_worker_restarts&#x27;: 0}</td><td>{&#x27;learner&#x27;: {&#x27;__all__&#x27;: {&#x27;num_agent_steps_trained&#x27;: 32.0, &#x27;num_env_steps_trained&#x27;: 512.0, &#x27;total_loss&#x27;: 0.011929244501516223}, &#x27;default_policy&#x27;: {&#x27;total_loss&#x27;: 0.011929244501516223, &#x27;policy_loss&#x27;: 0.008274740481283516, &#x27;vf_loss&#x27;: 7.062407732405518e-06, &#x27;vf_loss_unclipped&#x27;: 7.062407732405518e-06, &#x27;vf_explained_var&#x27;: -0.5258351317606866, &#x27;entropy&#x27;: 9.366493685171008, &#x27;mean_kl_loss&#x27;: 0.011889879894170008, &#x27;gradients_default_optimizer_global_norm&#x27;: 7.505942439194769, &#x27;curr_lr&#x27;: 0.00015, &#x27;curr_entropy_coeff&#x27;: 0.00015, &#x27;curr_kl_coeff&#x27;: 0.42493388056755066}}, &#x27;num_env_steps_sampled&#x27;: 447488, &#x27;num_env_steps_trained&#x27;: 0, &#x27;num_agent_steps_sampled&#x27;: 447488, &#x27;num_agent_steps_trained&#x27;: 0}</td><td style=\"text-align: right;\">                   447488</td><td style=\"text-align: right;\">                        0</td><td style=\"text-align: right;\">                 447488</td><td style=\"text-align: right;\">                              512</td><td style=\"text-align: right;\">                                   228.185</td><td style=\"text-align: right;\">                      0</td><td style=\"text-align: right;\">                                0</td><td style=\"text-align: right;\">                                         0</td><td style=\"text-align: right;\">                    0</td><td style=\"text-align: right;\">                    0</td><td style=\"text-align: right;\">                         0</td><td style=\"text-align: right;\">                           0</td><td style=\"text-align: right;\">                            0</td><td>{&#x27;cpu_util_percent&#x27;: 12.08, &#x27;ram_util_percent&#x27;: 92.96000000000001}</td><td>{}                 </td><td>{}                  </td><td>{}                 </td><td>{&#x27;mean_raw_obs_processing_ms&#x27;: 0.29639210542217237, &#x27;mean_inference_ms&#x27;: 0.7593045669589952, &#x27;mean_action_processing_ms&#x27;: 0.11295169585395212, &#x27;mean_env_wait_ms&#x27;: 1.3550855612204444, &#x27;mean_env_render_ms&#x27;: 0.0}</td><td>{&#x27;episode_reward_max&#x27;: 0.0, &#x27;episode_reward_min&#x27;: -100.0, &#x27;episode_reward_mean&#x27;: -95.0, &#x27;episode_len_mean&#x27;: 100.0, &#x27;episode_media&#x27;: {}, &#x27;episodes_this_iter&#x27;: 5, &#x27;policy_reward_min&#x27;: {}, &#x27;policy_reward_max&#x27;: {}, &#x27;policy_reward_mean&#x27;: {}, &#x27;custom_metrics&#x27;: {}, &#x27;hist_stats&#x27;: {&#x27;episode_reward&#x27;: [-100.0, -100.0, -100.0, -100.0, -100.0, -100.0, -100.0, -100.0, -100.0, 0.0, -100.0, -100.0, -100.0, 0.0, -100.0, -100.0, -100.0, -100.0, -100.0, -100.0, -100.0, -100.0, -100.0, -100.0, -100.0, 0.0, -100.0, -100.0, -100.0, -100.0, -100.0, -100.0, -100.0, -100.0, -100.0, -100.0, -100.0, -100.0, -100.0, -100.0, -100.0, -100.0, -100.0, -100.0, -100.0, -100.0, -100.0, -100.0, -100.0, -100.0, -100.0, -100.0, -100.0, -100.0, -100.0, -100.0, -100.0, -100.0, -100.0, -100.0, -100.0, -100.0, -100.0, -100.0, -100.0, -100.0, -100.0, -100.0, -100.0, -100.0, -100.0, -100.0, -100.0, -100.0, -100.0, -100.0, 0.0, -100.0, -100.0, -100.0, 0.0, -100.0, -100.0, -100.0, -100.0, -100.0, -100.0, -100.0, -100.0, -100.0, -100.0, -100.0, -100.0, -100.0, -100.0, -100.0, -100.0, -100.0, -100.0, -100.0], &#x27;episode_lengths&#x27;: [100, 100, 100, 100, 100, 100, 100, 100, 100, 100, 100, 100, 100, 100, 100, 100, 100, 100, 100, 100, 100, 100, 100, 100, 100, 100, 100, 100, 100, 100, 100, 100, 100, 100, 100, 100, 100, 100, 100, 100, 100, 100, 100, 100, 100, 100, 100, 100, 100, 100, 100, 100, 100, 100, 100, 100, 100, 100, 100, 100, 100, 100, 100, 100, 100, 100, 100, 100, 100, 100, 100, 100, 100, 100, 100, 100, 100, 100, 100, 100, 100, 100, 100, 100, 100, 100, 100, 100, 100, 100, 100, 100, 100, 100, 100, 100, 100, 100, 100, 100]}, &#x27;sampler_perf&#x27;: {&#x27;mean_raw_obs_processing_ms&#x27;: 0.29639210542217237, &#x27;mean_inference_ms&#x27;: 0.7593045669589952, &#x27;mean_action_processing_ms&#x27;: 0.11295169585395212, &#x27;mean_env_wait_ms&#x27;: 1.3550855612204444, &#x27;mean_env_render_ms&#x27;: 0.0}, &#x27;num_faulty_episodes&#x27;: 0, &#x27;connector_metrics&#x27;: {&#x27;ObsPreprocessorConnector_ms&#x27;: 0.020469188690185547, &#x27;StateBufferConnector_ms&#x27;: 0.0034513473510742188, &#x27;ViewRequirementAgentConnector_ms&#x27;: 0.1869511604309082}}</td><td>{&#x27;training_iteration_time_ms&#x27;: 2166.465, &#x27;sample_time_ms&#x27;: 1722.345, &#x27;synch_weights_time_ms&#x27;: 0.84}</td></tr>\n",
       "</tbody>\n",
       "</table>\n",
       "</div>\n",
       "<style>\n",
       ".trialProgress {\n",
       "  display: flex;\n",
       "  flex-direction: column;\n",
       "  color: var(--jp-ui-font-color1);\n",
       "}\n",
       ".trialProgress h3 {\n",
       "  font-weight: bold;\n",
       "}\n",
       ".trialProgress td {\n",
       "  white-space: nowrap;\n",
       "}\n",
       "</style>\n"
      ],
      "text/plain": [
       "<IPython.core.display.HTML object>"
      ]
     },
     "metadata": {},
     "output_type": "display_data"
    },
    {
     "ename": "RuntimeError",
     "evalue": "Caught unexpected exception: Task was killed due to the node running low on memory.\nMemory on the node (IP: 172.21.2.236, ID: f24d2acd01e78bc177a921219f4cc4a34587410a92203ca913975d04) where the task (actor ID: e9a7336a95a65e69945b4e1801000000, name=PPO.__init__, pid=89162, memory used=0.55GB) was running was 7.24GB / 7.60GB (0.953493), which exceeds the memory usage threshold of 0.95. Ray killed this worker (ID: 33c27bc17343954033cf681071ef193b7fbe66852501b4ccc5994677) because it was the most recently scheduled task; to see more information about memory usage on this node, use `ray logs raylet.out -ip 172.21.2.236`. To see the logs of the worker, use `ray logs worker-33c27bc17343954033cf681071ef193b7fbe66852501b4ccc5994677*out -ip 172.21.2.236. Top 10 memory users:\nPID\tMEM(GB)\tCOMMAND\n96781\t3.79\t/home/cocp5/anaconda3/bin/python /home/cocp5/anaconda3/bin/conda install -c conda-forge tensorflow-g...\n89162\t0.55\tray::PPO.train\n52585\t0.37\t/home/cocp5/anaconda3/envs/gmnsmRoboRLdev/bin/python -u /home/cocp5/anaconda3/envs/gmnsmRoboRLdev/li...\n52115\t0.30\t/home/cocp5/anaconda3/envs/gmnsmRoboRLdev/bin/python -m ipykernel_launcher -f /home/cocp5/.local/sha...\n8590\t0.17\t/usr/lib/firefox/firefox file:///home/cocp5/.local/share/jupyter/runtime/jpserver-8553-open.html\n1695\t0.13\t/home/cocp5/.vscode-server/bin/74f6148eb9ea00507ec113ec51c489d6ffb4b771/node /home/cocp5/.vscode-ser...\n8859\t0.12\t/usr/lib/firefox/firefox -contentproc -childID 4 -isForBrowser -prefsLen 28845 -prefMapSize 236726 -...\n52397\t0.10\t/home/cocp5/anaconda3/envs/gmnsmRoboRLdev/lib/python3.9/site-packages/ray/core/src/ray/gcs/gcs_serve...\n52448\t0.06\t/home/cocp5/anaconda3/envs/gmnsmRoboRLdev/bin/python /home/cocp5/anaconda3/envs/gmnsmRoboRLdev/lib/p...\n52611\t0.05\tray::IDLE\nRefer to the documentation on how to address the out of memory issue: https://docs.ray.io/en/latest/ray-core/scheduling/ray-oom-prevention.html. Consider provisioning more memory on this node or reducing task parallelism by requesting more CPUs per task. Set max_restarts and max_task_retries to enable retry when the task crashes due to OOM. To adjust the kill threshold, set the environment variable `RAY_memory_usage_threshold` when starting Ray. To disable worker killing, set the environment variable `RAY_memory_monitor_refresh_ms` to zero.",
     "output_type": "error",
     "traceback": [
      "\u001b[0;31m---------------------------------------------------------------------------\u001b[0m",
      "\u001b[0;31mOutOfMemoryError\u001b[0m                          Traceback (most recent call last)",
      "File \u001b[0;32m~/anaconda3/envs/gmnsmRoboRLdev/lib/python3.9/site-packages/ray/air/execution/_internal/event_manager.py:110\u001b[0m, in \u001b[0;36mRayEventManager.resolve_future\u001b[0;34m(self, future)\u001b[0m\n\u001b[1;32m    109\u001b[0m \u001b[38;5;28;01mtry\u001b[39;00m:\n\u001b[0;32m--> 110\u001b[0m     result \u001b[38;5;241m=\u001b[39m \u001b[43mray\u001b[49m\u001b[38;5;241;43m.\u001b[39;49m\u001b[43mget\u001b[49m\u001b[43m(\u001b[49m\u001b[43mfuture\u001b[49m\u001b[43m)\u001b[49m\n\u001b[1;32m    111\u001b[0m \u001b[38;5;28;01mexcept\u001b[39;00m \u001b[38;5;167;01mException\u001b[39;00m \u001b[38;5;28;01mas\u001b[39;00m e:\n",
      "File \u001b[0;32m~/anaconda3/envs/gmnsmRoboRLdev/lib/python3.9/site-packages/ray/_private/auto_init_hook.py:24\u001b[0m, in \u001b[0;36mwrap_auto_init.<locals>.auto_init_wrapper\u001b[0;34m(*args, **kwargs)\u001b[0m\n\u001b[1;32m     23\u001b[0m auto_init_ray()\n\u001b[0;32m---> 24\u001b[0m \u001b[38;5;28;01mreturn\u001b[39;00m \u001b[43mfn\u001b[49m\u001b[43m(\u001b[49m\u001b[38;5;241;43m*\u001b[39;49m\u001b[43margs\u001b[49m\u001b[43m,\u001b[49m\u001b[43m \u001b[49m\u001b[38;5;241;43m*\u001b[39;49m\u001b[38;5;241;43m*\u001b[39;49m\u001b[43mkwargs\u001b[49m\u001b[43m)\u001b[49m\n",
      "File \u001b[0;32m~/anaconda3/envs/gmnsmRoboRLdev/lib/python3.9/site-packages/ray/_private/client_mode_hook.py:103\u001b[0m, in \u001b[0;36mclient_mode_hook.<locals>.wrapper\u001b[0;34m(*args, **kwargs)\u001b[0m\n\u001b[1;32m    102\u001b[0m         \u001b[38;5;28;01mreturn\u001b[39;00m \u001b[38;5;28mgetattr\u001b[39m(ray, func\u001b[38;5;241m.\u001b[39m\u001b[38;5;18m__name__\u001b[39m)(\u001b[38;5;241m*\u001b[39margs, \u001b[38;5;241m*\u001b[39m\u001b[38;5;241m*\u001b[39mkwargs)\n\u001b[0;32m--> 103\u001b[0m \u001b[38;5;28;01mreturn\u001b[39;00m \u001b[43mfunc\u001b[49m\u001b[43m(\u001b[49m\u001b[38;5;241;43m*\u001b[39;49m\u001b[43margs\u001b[49m\u001b[43m,\u001b[49m\u001b[43m \u001b[49m\u001b[38;5;241;43m*\u001b[39;49m\u001b[38;5;241;43m*\u001b[39;49m\u001b[43mkwargs\u001b[49m\u001b[43m)\u001b[49m\n",
      "File \u001b[0;32m~/anaconda3/envs/gmnsmRoboRLdev/lib/python3.9/site-packages/ray/_private/worker.py:2495\u001b[0m, in \u001b[0;36mget\u001b[0;34m(object_refs, timeout)\u001b[0m\n\u001b[1;32m   2494\u001b[0m         \u001b[38;5;28;01melse\u001b[39;00m:\n\u001b[0;32m-> 2495\u001b[0m             \u001b[38;5;28;01mraise\u001b[39;00m value\n\u001b[1;32m   2497\u001b[0m \u001b[38;5;28;01mif\u001b[39;00m is_individual_id:\n",
      "\u001b[0;31mOutOfMemoryError\u001b[0m: Task was killed due to the node running low on memory.\nMemory on the node (IP: 172.21.2.236, ID: f24d2acd01e78bc177a921219f4cc4a34587410a92203ca913975d04) where the task (actor ID: e9a7336a95a65e69945b4e1801000000, name=PPO.__init__, pid=89162, memory used=0.55GB) was running was 7.24GB / 7.60GB (0.953493), which exceeds the memory usage threshold of 0.95. Ray killed this worker (ID: 33c27bc17343954033cf681071ef193b7fbe66852501b4ccc5994677) because it was the most recently scheduled task; to see more information about memory usage on this node, use `ray logs raylet.out -ip 172.21.2.236`. To see the logs of the worker, use `ray logs worker-33c27bc17343954033cf681071ef193b7fbe66852501b4ccc5994677*out -ip 172.21.2.236. Top 10 memory users:\nPID\tMEM(GB)\tCOMMAND\n96781\t3.79\t/home/cocp5/anaconda3/bin/python /home/cocp5/anaconda3/bin/conda install -c conda-forge tensorflow-g...\n89162\t0.55\tray::PPO.train\n52585\t0.37\t/home/cocp5/anaconda3/envs/gmnsmRoboRLdev/bin/python -u /home/cocp5/anaconda3/envs/gmnsmRoboRLdev/li...\n52115\t0.30\t/home/cocp5/anaconda3/envs/gmnsmRoboRLdev/bin/python -m ipykernel_launcher -f /home/cocp5/.local/sha...\n8590\t0.17\t/usr/lib/firefox/firefox file:///home/cocp5/.local/share/jupyter/runtime/jpserver-8553-open.html\n1695\t0.13\t/home/cocp5/.vscode-server/bin/74f6148eb9ea00507ec113ec51c489d6ffb4b771/node /home/cocp5/.vscode-ser...\n8859\t0.12\t/usr/lib/firefox/firefox -contentproc -childID 4 -isForBrowser -prefsLen 28845 -prefMapSize 236726 -...\n52397\t0.10\t/home/cocp5/anaconda3/envs/gmnsmRoboRLdev/lib/python3.9/site-packages/ray/core/src/ray/gcs/gcs_serve...\n52448\t0.06\t/home/cocp5/anaconda3/envs/gmnsmRoboRLdev/bin/python /home/cocp5/anaconda3/envs/gmnsmRoboRLdev/lib/p...\n52611\t0.05\tray::IDLE\nRefer to the documentation on how to address the out of memory issue: https://docs.ray.io/en/latest/ray-core/scheduling/ray-oom-prevention.html. Consider provisioning more memory on this node or reducing task parallelism by requesting more CPUs per task. Set max_restarts and max_task_retries to enable retry when the task crashes due to OOM. To adjust the kill threshold, set the environment variable `RAY_memory_usage_threshold` when starting Ray. To disable worker killing, set the environment variable `RAY_memory_monitor_refresh_ms` to zero.",
      "\nThe above exception was the direct cause of the following exception:\n",
      "\u001b[0;31mRuntimeError\u001b[0m                              Traceback (most recent call last)",
      "Cell \u001b[0;32mIn[10], line 1\u001b[0m\n\u001b[0;32m----> 1\u001b[0m \u001b[43mtune\u001b[49m\u001b[38;5;241;43m.\u001b[39;49m\u001b[43mrun\u001b[49m\u001b[43m(\u001b[49m\u001b[38;5;124;43m\"\u001b[39;49m\u001b[38;5;124;43mPPO\u001b[39;49m\u001b[38;5;124;43m\"\u001b[39;49m\u001b[43m,\u001b[49m\n\u001b[1;32m      2\u001b[0m \u001b[43m             \u001b[49m\u001b[38;5;66;43;03m# algorithm specific configuration\u001b[39;49;00m\n\u001b[1;32m      3\u001b[0m \u001b[43m             \u001b[49m\u001b[43mconfig\u001b[49m\u001b[38;5;241;43m=\u001b[39;49m\u001b[43m{\u001b[49m\u001b[38;5;124;43m\"\u001b[39;49m\u001b[38;5;124;43menv\u001b[39;49m\u001b[38;5;124;43m\"\u001b[39;49m\u001b[43m:\u001b[49m\u001b[43m \u001b[49m\u001b[38;5;124;43m\"\u001b[39;49m\u001b[38;5;124;43mGymnasium_Pick_Place_0\u001b[39;49m\u001b[38;5;124;43m\"\u001b[39;49m\u001b[43m,\u001b[49m\u001b[43m  \u001b[49m\u001b[38;5;66;43;03m#\u001b[39;49;00m\n\u001b[1;32m      4\u001b[0m \u001b[43m                     \u001b[49m\u001b[38;5;124;43m\"\u001b[39;49m\u001b[38;5;124;43mframework\u001b[39;49m\u001b[38;5;124;43m\"\u001b[39;49m\u001b[43m:\u001b[49m\u001b[43m \u001b[49m\u001b[38;5;124;43m\"\u001b[39;49m\u001b[38;5;124;43mtorch\u001b[39;49m\u001b[38;5;124;43m\"\u001b[39;49m\u001b[43m,\u001b[49m\n\u001b[1;32m      5\u001b[0m \u001b[43m                     \u001b[49m\u001b[38;5;66;43;03m#\"seed\":958,\u001b[39;49;00m\n\u001b[1;32m      6\u001b[0m \u001b[43m                     \u001b[49m\u001b[38;5;124;43m\"\u001b[39;49m\u001b[38;5;124;43mnum_gpus\u001b[39;49m\u001b[38;5;124;43m\"\u001b[39;49m\u001b[43m:\u001b[49m\u001b[43m \u001b[49m\u001b[38;5;241;43m1\u001b[39;49m\u001b[43m,\u001b[49m\n\u001b[1;32m      7\u001b[0m \u001b[43m                     \u001b[49m\u001b[38;5;124;43m\"\u001b[39;49m\u001b[38;5;124;43mnum_rollout_workers\u001b[39;49m\u001b[38;5;124;43m\"\u001b[39;49m\u001b[43m:\u001b[49m\u001b[43m \u001b[49m\u001b[38;5;241;43m0\u001b[39;49m\u001b[43m,\u001b[49m\n\u001b[1;32m      8\u001b[0m \u001b[43m                     \u001b[49m\u001b[38;5;66;43;03m#\"num_envs_per_worker\": 1,\u001b[39;49;00m\n\u001b[1;32m      9\u001b[0m \u001b[43m                     \u001b[49m\u001b[38;5;66;43;03m#\"num_gpus_per_worker\": 0,\u001b[39;49;00m\n\u001b[1;32m     10\u001b[0m \u001b[43m                     \u001b[49m\u001b[38;5;124;43m\"\u001b[39;49m\u001b[38;5;124;43mtrain_batch_size\u001b[39;49m\u001b[38;5;124;43m\"\u001b[39;49m\u001b[43m:\u001b[49m\u001b[43m \u001b[49m\u001b[38;5;241;43m512\u001b[39;49m\u001b[43m,\u001b[49m\n\u001b[1;32m     11\u001b[0m \u001b[43m                     \u001b[49m\u001b[38;5;124;43m\"\u001b[39;49m\u001b[38;5;124;43muse_critic\u001b[39;49m\u001b[38;5;124;43m\"\u001b[39;49m\u001b[43m:\u001b[49m\u001b[38;5;28;43;01mTrue\u001b[39;49;00m\u001b[43m,\u001b[49m\n\u001b[1;32m     12\u001b[0m \u001b[43m                     \u001b[49m\u001b[38;5;124;43m\"\u001b[39;49m\u001b[38;5;124;43muse_gae\u001b[39;49m\u001b[38;5;124;43m\"\u001b[39;49m\u001b[43m:\u001b[49m\u001b[43m \u001b[49m\u001b[38;5;28;43;01mTrue\u001b[39;49;00m\u001b[43m,\u001b[49m\n\u001b[1;32m     13\u001b[0m \u001b[43m                     \u001b[49m\u001b[38;5;124;43m\"\u001b[39;49m\u001b[38;5;124;43mlambda\u001b[39;49m\u001b[38;5;124;43m\"\u001b[39;49m\u001b[43m:\u001b[49m\u001b[43m \u001b[49m\u001b[38;5;241;43m0.99\u001b[39;49m\u001b[43m,\u001b[49m\n\u001b[1;32m     14\u001b[0m \u001b[43m                     \u001b[49m\u001b[38;5;124;43m\"\u001b[39;49m\u001b[38;5;124;43msgd_minibatch_size\u001b[39;49m\u001b[38;5;124;43m\"\u001b[39;49m\u001b[43m:\u001b[49m\u001b[43m \u001b[49m\u001b[38;5;241;43m32\u001b[39;49m\u001b[43m,\u001b[49m\n\u001b[1;32m     15\u001b[0m \u001b[43m                     \u001b[49m\u001b[38;5;124;43m\"\u001b[39;49m\u001b[38;5;124;43mnum_sgd_iter\u001b[39;49m\u001b[38;5;124;43m\"\u001b[39;49m\u001b[43m:\u001b[49m\u001b[43m \u001b[49m\u001b[38;5;241;43m8\u001b[39;49m\u001b[43m,\u001b[49m\n\u001b[1;32m     16\u001b[0m \u001b[43m                     \u001b[49m\u001b[38;5;124;43m\"\u001b[39;49m\u001b[38;5;124;43mshuffle_sequences\u001b[39;49m\u001b[38;5;124;43m\"\u001b[39;49m\u001b[43m:\u001b[49m\u001b[43m \u001b[49m\u001b[38;5;28;43;01mFalse\u001b[39;49;00m\u001b[43m,\u001b[49m\n\u001b[1;32m     17\u001b[0m \u001b[43m                     \u001b[49m\u001b[38;5;124;43m\"\u001b[39;49m\u001b[38;5;124;43mentropy_coeff\u001b[39;49m\u001b[38;5;124;43m\"\u001b[39;49m\u001b[43m:\u001b[49m\u001b[43m \u001b[49m\u001b[38;5;241;43m0.00015\u001b[39;49m\u001b[43m,\u001b[49m\n\u001b[1;32m     18\u001b[0m \u001b[43m                     \u001b[49m\u001b[38;5;124;43m\"\u001b[39;49m\u001b[38;5;124;43mclip_param\u001b[39;49m\u001b[38;5;124;43m\"\u001b[39;49m\u001b[43m:\u001b[49m\u001b[43m \u001b[49m\u001b[38;5;241;43m0.1\u001b[39;49m\u001b[43m,\u001b[49m\n\u001b[1;32m     19\u001b[0m \u001b[43m                     \u001b[49m\u001b[38;5;124;43m\"\u001b[39;49m\u001b[38;5;124;43mgrad_clip\u001b[39;49m\u001b[38;5;124;43m\"\u001b[39;49m\u001b[43m:\u001b[49m\u001b[43m \u001b[49m\u001b[38;5;241;43m5\u001b[39;49m\u001b[43m,\u001b[49m\n\u001b[1;32m     20\u001b[0m \u001b[43m                     \u001b[49m\u001b[38;5;124;43m\"\u001b[39;49m\u001b[38;5;124;43mlr\u001b[39;49m\u001b[38;5;124;43m\"\u001b[39;49m\u001b[43m:\u001b[49m\u001b[43m \u001b[49m\u001b[38;5;241;43m0.00015\u001b[39;49m\u001b[43m,\u001b[49m\n\u001b[1;32m     21\u001b[0m \u001b[43m                     \u001b[49m\u001b[38;5;66;43;03m#\"num_cpus_per_worker\": 1,\u001b[39;49;00m\n\u001b[1;32m     22\u001b[0m \u001b[43m                     \u001b[49m\u001b[38;5;66;43;03m#\"model\": {\"custom_model\": \"pa_model\", },\u001b[39;49;00m\n\u001b[1;32m     23\u001b[0m \u001b[43m                     \u001b[49m\u001b[38;5;124;43m\"\u001b[39;49m\u001b[38;5;124;43mevaluation_interval\u001b[39;49m\u001b[38;5;124;43m\"\u001b[39;49m\u001b[43m:\u001b[49m\u001b[43m \u001b[49m\u001b[38;5;241;43m1\u001b[39;49m\u001b[43m,\u001b[49m\n\u001b[1;32m     24\u001b[0m \u001b[43m                     \u001b[49m\u001b[38;5;124;43m\"\u001b[39;49m\u001b[38;5;124;43mevaluation_num_episodes\u001b[39;49m\u001b[38;5;124;43m\"\u001b[39;49m\u001b[43m:\u001b[49m\u001b[43m \u001b[49m\u001b[38;5;241;43m2\u001b[39;49m\n\u001b[1;32m     25\u001b[0m \u001b[43m                     \u001b[49m\u001b[43m}\u001b[49m\u001b[43m,\u001b[49m\n\u001b[1;32m     26\u001b[0m \u001b[43m             \u001b[49m\u001b[43mlocal_dir\u001b[49m\u001b[38;5;241;43m=\u001b[39;49m\u001b[38;5;124;43m\"\u001b[39;49m\u001b[38;5;124;43m/home/cocp5/Gymnasium-Robotics-RL/Gymnasium_Pick_Place_0\u001b[39;49m\u001b[38;5;124;43m\"\u001b[39;49m\u001b[43m,\u001b[49m\u001b[43m  \u001b[49m\u001b[38;5;66;43;03m# directory to save results\u001b[39;49;00m\n\u001b[1;32m     27\u001b[0m \u001b[43m             \u001b[49m\u001b[43mcheckpoint_freq\u001b[49m\u001b[38;5;241;43m=\u001b[39;49m\u001b[38;5;241;43m2\u001b[39;49m\u001b[43m,\u001b[49m\u001b[43m  \u001b[49m\u001b[38;5;66;43;03m# frequency between checkpoints\u001b[39;49;00m\n\u001b[1;32m     28\u001b[0m \u001b[43m             \u001b[49m\u001b[43mkeep_checkpoints_num\u001b[49m\u001b[38;5;241;43m=\u001b[39;49m\u001b[38;5;241;43m6\u001b[39;49m\u001b[43m,\u001b[49m\n\u001b[1;32m     29\u001b[0m \u001b[43m             \u001b[49m\u001b[43mstop\u001b[49m\u001b[38;5;241;43m=\u001b[39;49m\u001b[43m{\u001b[49m\u001b[38;5;124;43m\"\u001b[39;49m\u001b[38;5;124;43mtraining_iteration\u001b[39;49m\u001b[38;5;124;43m\"\u001b[39;49m\u001b[43m:\u001b[49m\u001b[43m \u001b[49m\u001b[38;5;241;43m1000\u001b[39;49m\u001b[43m}\u001b[49m\n\u001b[1;32m     30\u001b[0m \u001b[43m             \u001b[49m\u001b[43m)\u001b[49m\n",
      "File \u001b[0;32m~/anaconda3/envs/gmnsmRoboRLdev/lib/python3.9/site-packages/ray/tune/tune.py:1107\u001b[0m, in \u001b[0;36mrun\u001b[0;34m(run_or_experiment, name, metric, mode, stop, time_budget_s, config, resources_per_trial, num_samples, storage_path, search_alg, scheduler, checkpoint_config, verbose, progress_reporter, log_to_file, trial_name_creator, trial_dirname_creator, chdir_to_trial_dir, sync_config, export_formats, max_failures, fail_fast, restore, server_port, resume, reuse_actors, raise_on_failed_trial, callbacks, max_concurrent_trials, keep_checkpoints_num, checkpoint_score_attr, checkpoint_freq, checkpoint_at_end, checkpoint_keep_all_ranks, checkpoint_upload_from_workers, trial_executor, local_dir, _experiment_checkpoint_dir, _remote, _remote_string_queue, _entrypoint)\u001b[0m\n\u001b[1;32m   1103\u001b[0m \u001b[38;5;28;01mtry\u001b[39;00m:\n\u001b[1;32m   1104\u001b[0m     \u001b[38;5;28;01mwhile\u001b[39;00m (\n\u001b[1;32m   1105\u001b[0m         \u001b[38;5;129;01mnot\u001b[39;00m runner\u001b[38;5;241m.\u001b[39mis_finished() \u001b[38;5;129;01mand\u001b[39;00m \u001b[38;5;129;01mnot\u001b[39;00m experiment_interrupted_event\u001b[38;5;241m.\u001b[39mis_set()\n\u001b[1;32m   1106\u001b[0m     ):\n\u001b[0;32m-> 1107\u001b[0m         \u001b[43mrunner\u001b[49m\u001b[38;5;241;43m.\u001b[39;49m\u001b[43mstep\u001b[49m\u001b[43m(\u001b[49m\u001b[43m)\u001b[49m\n\u001b[1;32m   1108\u001b[0m         \u001b[38;5;28;01mif\u001b[39;00m has_verbosity(Verbosity\u001b[38;5;241m.\u001b[39mV1_EXPERIMENT):\n\u001b[1;32m   1109\u001b[0m             _report_progress(runner, progress_reporter)\n",
      "File \u001b[0;32m~/anaconda3/envs/gmnsmRoboRLdev/lib/python3.9/site-packages/ray/tune/execution/tune_controller.py:286\u001b[0m, in \u001b[0;36mTuneController.step\u001b[0;34m(self)\u001b[0m\n\u001b[1;32m    283\u001b[0m \u001b[38;5;28mself\u001b[39m\u001b[38;5;241m.\u001b[39m_maybe_add_actors()\n\u001b[1;32m    285\u001b[0m \u001b[38;5;66;03m# Handle one event\u001b[39;00m\n\u001b[0;32m--> 286\u001b[0m \u001b[38;5;28;01mif\u001b[39;00m \u001b[38;5;129;01mnot\u001b[39;00m \u001b[38;5;28;43mself\u001b[39;49m\u001b[38;5;241;43m.\u001b[39;49m\u001b[43m_actor_manager\u001b[49m\u001b[38;5;241;43m.\u001b[39;49m\u001b[43mnext\u001b[49m\u001b[43m(\u001b[49m\u001b[43mtimeout\u001b[49m\u001b[38;5;241;43m=\u001b[39;49m\u001b[38;5;241;43m0.1\u001b[39;49m\u001b[43m)\u001b[49m:\n\u001b[1;32m    287\u001b[0m     \u001b[38;5;66;03m# If there are no actors running, warn about potentially\u001b[39;00m\n\u001b[1;32m    288\u001b[0m     \u001b[38;5;66;03m# insufficient resources\u001b[39;00m\n\u001b[1;32m    289\u001b[0m     \u001b[38;5;28;01mif\u001b[39;00m \u001b[38;5;129;01mnot\u001b[39;00m \u001b[38;5;28mself\u001b[39m\u001b[38;5;241m.\u001b[39m_actor_manager\u001b[38;5;241m.\u001b[39mnum_live_actors:\n\u001b[1;32m    290\u001b[0m         \u001b[38;5;28mself\u001b[39m\u001b[38;5;241m.\u001b[39m_insufficient_resources_manager\u001b[38;5;241m.\u001b[39mon_no_available_trials(\n\u001b[1;32m    291\u001b[0m             \u001b[38;5;28mself\u001b[39m\u001b[38;5;241m.\u001b[39mget_trials()\n\u001b[1;32m    292\u001b[0m         )\n",
      "File \u001b[0;32m~/anaconda3/envs/gmnsmRoboRLdev/lib/python3.9/site-packages/ray/air/execution/_internal/actor_manager.py:224\u001b[0m, in \u001b[0;36mRayActorManager.next\u001b[0;34m(self, timeout)\u001b[0m\n\u001b[1;32m    222\u001b[0m     \u001b[38;5;28mself\u001b[39m\u001b[38;5;241m.\u001b[39m_actor_state_events\u001b[38;5;241m.\u001b[39mresolve_future(future)\n\u001b[1;32m    223\u001b[0m \u001b[38;5;28;01melif\u001b[39;00m future \u001b[38;5;129;01min\u001b[39;00m actor_task_futures:\n\u001b[0;32m--> 224\u001b[0m     \u001b[38;5;28;43mself\u001b[39;49m\u001b[38;5;241;43m.\u001b[39;49m\u001b[43m_actor_task_events\u001b[49m\u001b[38;5;241;43m.\u001b[39;49m\u001b[43mresolve_future\u001b[49m\u001b[43m(\u001b[49m\u001b[43mfuture\u001b[49m\u001b[43m)\u001b[49m\n\u001b[1;32m    225\u001b[0m \u001b[38;5;28;01melse\u001b[39;00m:\n\u001b[1;32m    226\u001b[0m     \u001b[38;5;28mself\u001b[39m\u001b[38;5;241m.\u001b[39m_handle_ready_resource_future()\n",
      "File \u001b[0;32m~/anaconda3/envs/gmnsmRoboRLdev/lib/python3.9/site-packages/ray/air/execution/_internal/event_manager.py:113\u001b[0m, in \u001b[0;36mRayEventManager.resolve_future\u001b[0;34m(self, future)\u001b[0m\n\u001b[1;32m    111\u001b[0m \u001b[38;5;28;01mexcept\u001b[39;00m \u001b[38;5;167;01mException\u001b[39;00m \u001b[38;5;28;01mas\u001b[39;00m e:\n\u001b[1;32m    112\u001b[0m     \u001b[38;5;28;01mif\u001b[39;00m on_error:\n\u001b[0;32m--> 113\u001b[0m         \u001b[43mon_error\u001b[49m\u001b[43m(\u001b[49m\u001b[43me\u001b[49m\u001b[43m)\u001b[49m\n\u001b[1;32m    114\u001b[0m     \u001b[38;5;28;01melse\u001b[39;00m:\n\u001b[1;32m    115\u001b[0m         \u001b[38;5;28;01mraise\u001b[39;00m e\n",
      "File \u001b[0;32m~/anaconda3/envs/gmnsmRoboRLdev/lib/python3.9/site-packages/ray/air/execution/_internal/actor_manager.py:770\u001b[0m, in \u001b[0;36mRayActorManager._schedule_tracked_actor_task.<locals>.on_error\u001b[0;34m(exception)\u001b[0m\n\u001b[1;32m    769\u001b[0m \u001b[38;5;28;01mdef\u001b[39;00m \u001b[38;5;21mon_error\u001b[39m(exception: \u001b[38;5;167;01mException\u001b[39;00m):\n\u001b[0;32m--> 770\u001b[0m     \u001b[38;5;28;43mself\u001b[39;49m\u001b[38;5;241;43m.\u001b[39;49m\u001b[43m_actor_task_failed\u001b[49m\u001b[43m(\u001b[49m\n\u001b[1;32m    771\u001b[0m \u001b[43m        \u001b[49m\u001b[43mtracked_actor_task\u001b[49m\u001b[38;5;241;43m=\u001b[39;49m\u001b[43mtracked_actor_task\u001b[49m\u001b[43m,\u001b[49m\u001b[43m \u001b[49m\u001b[43mexception\u001b[49m\u001b[38;5;241;43m=\u001b[39;49m\u001b[43mexception\u001b[49m\n\u001b[1;32m    772\u001b[0m \u001b[43m    \u001b[49m\u001b[43m)\u001b[49m\n",
      "File \u001b[0;32m~/anaconda3/envs/gmnsmRoboRLdev/lib/python3.9/site-packages/ray/air/execution/_internal/actor_manager.py:291\u001b[0m, in \u001b[0;36mRayActorManager._actor_task_failed\u001b[0;34m(self, tracked_actor_task, exception)\u001b[0m\n\u001b[1;32m    289\u001b[0m         tracked_actor_task\u001b[38;5;241m.\u001b[39m_on_error(tracked_actor, exception)\n\u001b[1;32m    290\u001b[0m \u001b[38;5;28;01melse\u001b[39;00m:\n\u001b[0;32m--> 291\u001b[0m     \u001b[38;5;28;01mraise\u001b[39;00m \u001b[38;5;167;01mRuntimeError\u001b[39;00m(\n\u001b[1;32m    292\u001b[0m         \u001b[38;5;124mf\u001b[39m\u001b[38;5;124m\"\u001b[39m\u001b[38;5;124mCaught unexpected exception: \u001b[39m\u001b[38;5;132;01m{\u001b[39;00mexception\u001b[38;5;132;01m}\u001b[39;00m\u001b[38;5;124m\"\u001b[39m\n\u001b[1;32m    293\u001b[0m     ) \u001b[38;5;28;01mfrom\u001b[39;00m \u001b[38;5;21;01mexception\u001b[39;00m\n",
      "\u001b[0;31mRuntimeError\u001b[0m: Caught unexpected exception: Task was killed due to the node running low on memory.\nMemory on the node (IP: 172.21.2.236, ID: f24d2acd01e78bc177a921219f4cc4a34587410a92203ca913975d04) where the task (actor ID: e9a7336a95a65e69945b4e1801000000, name=PPO.__init__, pid=89162, memory used=0.55GB) was running was 7.24GB / 7.60GB (0.953493), which exceeds the memory usage threshold of 0.95. Ray killed this worker (ID: 33c27bc17343954033cf681071ef193b7fbe66852501b4ccc5994677) because it was the most recently scheduled task; to see more information about memory usage on this node, use `ray logs raylet.out -ip 172.21.2.236`. To see the logs of the worker, use `ray logs worker-33c27bc17343954033cf681071ef193b7fbe66852501b4ccc5994677*out -ip 172.21.2.236. Top 10 memory users:\nPID\tMEM(GB)\tCOMMAND\n96781\t3.79\t/home/cocp5/anaconda3/bin/python /home/cocp5/anaconda3/bin/conda install -c conda-forge tensorflow-g...\n89162\t0.55\tray::PPO.train\n52585\t0.37\t/home/cocp5/anaconda3/envs/gmnsmRoboRLdev/bin/python -u /home/cocp5/anaconda3/envs/gmnsmRoboRLdev/li...\n52115\t0.30\t/home/cocp5/anaconda3/envs/gmnsmRoboRLdev/bin/python -m ipykernel_launcher -f /home/cocp5/.local/sha...\n8590\t0.17\t/usr/lib/firefox/firefox file:///home/cocp5/.local/share/jupyter/runtime/jpserver-8553-open.html\n1695\t0.13\t/home/cocp5/.vscode-server/bin/74f6148eb9ea00507ec113ec51c489d6ffb4b771/node /home/cocp5/.vscode-ser...\n8859\t0.12\t/usr/lib/firefox/firefox -contentproc -childID 4 -isForBrowser -prefsLen 28845 -prefMapSize 236726 -...\n52397\t0.10\t/home/cocp5/anaconda3/envs/gmnsmRoboRLdev/lib/python3.9/site-packages/ray/core/src/ray/gcs/gcs_serve...\n52448\t0.06\t/home/cocp5/anaconda3/envs/gmnsmRoboRLdev/bin/python /home/cocp5/anaconda3/envs/gmnsmRoboRLdev/lib/p...\n52611\t0.05\tray::IDLE\nRefer to the documentation on how to address the out of memory issue: https://docs.ray.io/en/latest/ray-core/scheduling/ray-oom-prevention.html. Consider provisioning more memory on this node or reducing task parallelism by requesting more CPUs per task. Set max_restarts and max_task_retries to enable retry when the task crashes due to OOM. To adjust the kill threshold, set the environment variable `RAY_memory_usage_threshold` when starting Ray. To disable worker killing, set the environment variable `RAY_memory_monitor_refresh_ms` to zero."
     ]
    },
    {
     "name": "stderr",
     "output_type": "stream",
     "text": [
      "\u001b[2m\u001b[33m(raylet)\u001b[0m [2023-07-25 16:25:03,903 E 52539 52539] (raylet) node_manager.cc:3084: 19 Workers (tasks / actors) killed due to memory pressure (OOM), 0 Workers crashed due to other reasons at node (ID: f24d2acd01e78bc177a921219f4cc4a34587410a92203ca913975d04, IP: 172.21.2.236) over the last time period. To see more information about the Workers killed on this node, use `ray logs raylet.out -ip 172.21.2.236`\n",
      "\u001b[2m\u001b[33m(raylet)\u001b[0m \n",
      "\u001b[2m\u001b[33m(raylet)\u001b[0m Refer to the documentation on how to address the out of memory issue: https://docs.ray.io/en/latest/ray-core/scheduling/ray-oom-prevention.html. Consider provisioning more memory on this node or reducing task parallelism by requesting more CPUs per task. To adjust the kill threshold, set the environment variable `RAY_memory_usage_threshold` when starting Ray. To disable worker killing, set the environment variable `RAY_memory_monitor_refresh_ms` to zero.\n"
     ]
    }
   ],
   "source": [
    "tune.run(\"PPO\",\n",
    "             # algorithm specific configuration\n",
    "             config={\"env\": \"Gymnasium_Pick_Place_0\",  #\n",
    "                     \"framework\": \"torch\",\n",
    "                     #\"seed\":958,\n",
    "                     \"num_gpus\": 1,\n",
    "                     \"num_rollout_workers\": 0,\n",
    "                     #\"num_envs_per_worker\": 1,\n",
    "                     #\"num_gpus_per_worker\": 0,\n",
    "                     \"train_batch_size\": 512,\n",
    "                     \"use_critic\":True,\n",
    "                     \"use_gae\": True,\n",
    "                     \"lambda\": 0.99,\n",
    "                     \"sgd_minibatch_size\": 32,\n",
    "                     \"num_sgd_iter\": 8,\n",
    "                     \"shuffle_sequences\": False,\n",
    "                     \"entropy_coeff\": 0.00015,\n",
    "                     \"clip_param\": 0.1,\n",
    "                     \"grad_clip\": 5,\n",
    "                     \"lr\": 0.00015,\n",
    "                     #\"num_cpus_per_worker\": 1,\n",
    "                     #\"model\": {\"custom_model\": \"pa_model\", },\n",
    "                     \"evaluation_interval\": 1,\n",
    "                     \"evaluation_num_episodes\": 2\n",
    "                     },\n",
    "             local_dir=\"/home/cocp5/Gymnasium-Robotics-RL/Gymnasium_Pick_Place_0\",  # directory to save results\n",
    "             checkpoint_freq=2,  # frequency between checkpoints\n",
    "             keep_checkpoints_num=6,\n",
    "             stop={\"training_iteration\": 1000}\n",
    "             )"
   ]
  },
  {
   "cell_type": "code",
   "execution_count": 14,
   "id": "6e05a194-db19-416e-9b63-de397b8093f7",
   "metadata": {},
   "outputs": [
    {
     "name": "stderr",
     "output_type": "stream",
     "text": [
      "2023-07-25 16:34:09,479\tWARNING algorithm_config.py:2534 -- Setting `exploration_config={}` because you set `_enable_rl_module_api=True`. When RLModule API are enabled, exploration_config can not be set. If you want to implement custom exploration behaviour, please modify the `forward_exploration` method of the RLModule at hand. On configs that have a default exploration config, this must be done with `config.exploration_config={}`.\n",
      "2023-07-25 16:34:09,481\tWARNING algorithm_config.py:2534 -- Setting `exploration_config={}` because you set `_enable_rl_module_api=True`. When RLModule API are enabled, exploration_config can not be set. If you want to implement custom exploration behaviour, please modify the `forward_exploration` method of the RLModule at hand. On configs that have a default exploration config, this must be done with `config.exploration_config={}`.\n",
      "2023-07-25 16:34:09,481\tWARNING deprecation.py:50 -- DeprecationWarning: `algo = Algorithm(env='Gymnasium_Pick_Place_0', ...)` has been deprecated. Use `algo = AlgorithmConfig().environment('Gymnasium_Pick_Place_0').build()` instead. This will raise an error in the future!\n",
      "\u001b[2m\u001b[36m(pid=105268)\u001b[0m DeprecationWarning: `DirectStepOptimizer` has been deprecated. This will raise an error in the future!\n",
      "2023-07-25 16:34:11,978\tWARNING algorithm_config.py:2534 -- Setting `exploration_config={}` because you set `_enable_rl_module_api=True`. When RLModule API are enabled, exploration_config can not be set. If you want to implement custom exploration behaviour, please modify the `forward_exploration` method of the RLModule at hand. On configs that have a default exploration config, this must be done with `config.exploration_config={}`.\n",
      "\u001b[2m\u001b[36m(RolloutWorker pid=105269)\u001b[0m /home/cocp5/anaconda3/envs/gmnsmRoboRLdev/lib/python3.9/site-packages/gymnasium/core.py:297: UserWarning: \u001b[33mWARN: env.single_observation_space to get variables from other wrappers is deprecated and will be removed in v1.0, to get this variable you can do `env.unwrapped.single_observation_space` for environment variables or `env.get_attr('single_observation_space')` that will search the reminding wrappers.\u001b[0m\n",
      "\u001b[2m\u001b[36m(RolloutWorker pid=105269)\u001b[0m   logger.warn(\n",
      "\u001b[2m\u001b[36m(RolloutWorker pid=105269)\u001b[0m /home/cocp5/anaconda3/envs/gmnsmRoboRLdev/lib/python3.9/site-packages/gymnasium/core.py:297: UserWarning: \u001b[33mWARN: env.single_action_space to get variables from other wrappers is deprecated and will be removed in v1.0, to get this variable you can do `env.unwrapped.single_action_space` for environment variables or `env.get_attr('single_action_space')` that will search the reminding wrappers.\u001b[0m\n",
      "\u001b[2m\u001b[36m(RolloutWorker pid=105269)\u001b[0m   logger.warn(\n",
      "\u001b[2m\u001b[36m(RolloutWorker pid=105269)\u001b[0m 2023-07-25 16:34:11,956\tWARNING algorithm_config.py:2534 -- Setting `exploration_config={}` because you set `_enable_rl_module_api=True`. When RLModule API are enabled, exploration_config can not be set. If you want to implement custom exploration behaviour, please modify the `forward_exploration` method of the RLModule at hand. On configs that have a default exploration config, this must be done with `config.exploration_config={}`.\n",
      "\u001b[2m\u001b[36m(RolloutWorker pid=105268)\u001b[0m 2023-07-25 16:34:11,916\tWARNING deprecation.py:50 -- DeprecationWarning: `ValueNetworkMixin` has been deprecated. This will raise an error in the future!\n",
      "\u001b[2m\u001b[36m(RolloutWorker pid=105268)\u001b[0m 2023-07-25 16:34:11,916\tWARNING deprecation.py:50 -- DeprecationWarning: `LearningRateSchedule` has been deprecated. This will raise an error in the future!\n",
      "\u001b[2m\u001b[36m(RolloutWorker pid=105268)\u001b[0m 2023-07-25 16:34:11,916\tWARNING deprecation.py:50 -- DeprecationWarning: `EntropyCoeffSchedule` has been deprecated. This will raise an error in the future!\n",
      "\u001b[2m\u001b[36m(RolloutWorker pid=105268)\u001b[0m 2023-07-25 16:34:11,916\tWARNING deprecation.py:50 -- DeprecationWarning: `KLCoeffMixin` has been deprecated. This will raise an error in the future!\n",
      "2023-07-25 16:34:12,027\tWARNING util.py:68 -- Install gputil for GPU system monitoring.\n",
      "2023-07-25 16:34:12,037\tWARNING algorithm_config.py:2534 -- Setting `exploration_config={}` because you set `_enable_rl_module_api=True`. When RLModule API are enabled, exploration_config can not be set. If you want to implement custom exploration behaviour, please modify the `forward_exploration` method of the RLModule at hand. On configs that have a default exploration config, this must be done with `config.exploration_config={}`.\n",
      "2023-07-25 16:34:12,038\tWARNING algorithm_config.py:656 -- Cannot create PPOConfig from given `config_dict`! Property __stdout_file__ not supported.\n",
      "2023-07-25 16:34:12,082\tINFO trainable.py:904 -- Restored on 172.21.2.236 from checkpoint: /home/cocp5/Gymnasium-Robotics-RL/Gymnasium_Pick_Place_0/PPO/PPO_Gymnasium_Pick_Place_0_d144a_00000_0_2023-07-25_15-52-03/checkpoint_000874\n",
      "2023-07-25 16:34:12,082\tINFO trainable.py:913 -- Current state after restoring: {'_iteration': 874, '_timesteps_total': None, '_time_total': 1900.3575429916382, '_episodes_total': 4474}\n"
     ]
    },
    {
     "ename": "NameError",
     "evalue": "name 'env' is not defined",
     "output_type": "error",
     "traceback": [
      "\u001b[0;31m---------------------------------------------------------------------\u001b[0m",
      "\u001b[0;31mNameError\u001b[0m                           Traceback (most recent call last)",
      "Cell \u001b[0;32mIn[14], line 11\u001b[0m\n\u001b[1;32m      9\u001b[0m \u001b[38;5;66;03m# Run the agent on the environment for 10 episodes.\u001b[39;00m\n\u001b[1;32m     10\u001b[0m \u001b[38;5;28;01mfor\u001b[39;00m i_episode \u001b[38;5;129;01min\u001b[39;00m \u001b[38;5;28mrange\u001b[39m(\u001b[38;5;241m10\u001b[39m):\n\u001b[0;32m---> 11\u001b[0m     observation, info \u001b[38;5;241m=\u001b[39m \u001b[43menv\u001b[49m\u001b[38;5;241m.\u001b[39mreset()\n\u001b[1;32m     12\u001b[0m     done \u001b[38;5;241m=\u001b[39m \u001b[38;5;28;01mFalse\u001b[39;00m\n\u001b[1;32m     13\u001b[0m     episode_reward \u001b[38;5;241m=\u001b[39m \u001b[38;5;241m0\u001b[39m\n",
      "\u001b[0;31mNameError\u001b[0m: name 'env' is not defined"
     ]
    }
   ],
   "source": [
    "#import ray\n",
    "from ray.rllib.algorithms.ppo import PPO\n",
    "\n",
    "# Load the trained model.\n",
    "#ray.init()\n",
    "agent = PPO(env=\"Gymnasium_Pick_Place_0\", config={})\n",
    "agent.restore(\"/home/cocp5/Gymnasium-Robotics-RL/Gymnasium_Pick_Place_0/PPO/PPO_Gymnasium_Pick_Place_0_d144a_00000_0_2023-07-25_15-52-03/checkpoint_000874\")\n",
    "\n",
    "# Run the agent on the environment for 10 episodes.\n",
    "for i_episode in range(10):\n",
    "    observation, info = agent.env.reset()\n",
    "    done = False\n",
    "    episode_reward = 0\n",
    "    while not done:\n",
    "        action = agent.compute_action(observation)\n",
    "        observation, reward, terminated, truncated, info = env.step(action)\n",
    "        episode_reward += reward\n",
    "        env.render()\n",
    "    print(f\"Episode {i_episode + 1} reward: {episode_reward}\")\n"
   ]
  },
  {
   "cell_type": "code",
   "execution_count": null,
   "id": "d7f35d8f-b1d3-4bd3-aaa3-c70087915dab",
   "metadata": {},
   "outputs": [],
   "source": [
    "#import ray\n",
    "from ray.rllib.algorithms.ppo import PPOTrainer, DEFAULT_CONFIG\n",
    "\n",
    "# Initialize Ray.\n",
    "ray.init()\n",
    "\n",
    "# Define the configuration.\n",
    "config = DEFAULT_CONFIG.copy()\n",
    "config[\"num_gpus\"] = 0\n",
    "config[\"num_workers\"] = 1\n",
    "\n",
    "# Create the trainer.\n",
    "trainer = PPOTrainer(config=config, env=\"Gymnasium_Pick_Place_0\")\n",
    "\n",
    "# Load the trained model.\n",
    "trainer.restore(\"/path/to/the/saved/checkpoint\")\n",
    "\n",
    "# Run the agent on the environment for 10 episodes.\n",
    "for i_episode in range(10):\n",
    "    episode_reward = 0\n",
    "    done = False\n",
    "    obs = trainer.env.reset()\n",
    "    while not done:\n",
    "        action = trainer.compute_action(obs)\n",
    "        obs, reward, done, info = trainer.env.step(action)\n",
    "        episode_reward += reward\n",
    "        trainer.env.render()\n",
    "    print(f\"Episode {i_episode + 1} reward: {episode_reward}\")\n"
   ]
  }
 ],
 "metadata": {
  "kernelspec": {
   "display_name": "Python 3",
   "language": "python",
   "name": "python3"
  },
  "language_info": {
   "codemirror_mode": {
    "name": "ipython",
    "version": 3
   },
   "file_extension": ".py",
   "mimetype": "text/x-python",
   "name": "python",
   "nbconvert_exporter": "python",
   "pygments_lexer": "ipython3",
   "version": "3.9.17"
  }
 },
 "nbformat": 4,
 "nbformat_minor": 5
}
