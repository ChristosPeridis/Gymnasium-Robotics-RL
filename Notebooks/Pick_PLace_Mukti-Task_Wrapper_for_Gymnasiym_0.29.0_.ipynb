{
 "cells": [
  {
   "cell_type": "code",
   "execution_count": 10,
   "id": "ac0faa7f-57f6-43a5-8515-08d78f485457",
   "metadata": {},
   "outputs": [],
   "source": [
    "import gymnasium as gym\n",
    "import numpy as np\n",
    "\n",
    "class SeededFetchPickAndPlaceEnv(gym.Wrapper):\n",
    "    def __init__(self, env, seed=None):\n",
    "        super().__init__(env)\n",
    "        self.seed = seed\n",
    "\n",
    "    def reset(self):\n",
    "        return self.env.reset(seed=self.seed)\n",
    "\n",
    "    def seed(self, seed=None):\n",
    "        self.np_random, seed = np.random.SeedSequence(seed)\n",
    "        return [seed]\n",
    "\n",
    "# Usage:\n",
    "#env = gym.make('FetchPickAndPlace-v2')\n",
    "#wrapped_env = SeededFetchPickAndPlaceEnv(env, 959)\n"
   ]
  },
  {
   "cell_type": "code",
   "execution_count": 11,
   "id": "ac24ca66-40d1-45b5-a883-2f235545f309",
   "metadata": {},
   "outputs": [],
   "source": [
    "def env_creator(env_config={}):\n",
    "    import gymnasium as gym\n",
    "    env = gym.make('FetchPickAndPlace-v2', render_mode='human', reward_type='dense', max_episode_steps=100)\n",
    "    env = SeededFetchPickAndPlaceEnv(env, 960)\n",
    "    env.reset()\n",
    "    return env"
   ]
  },
  {
   "cell_type": "code",
   "execution_count": 12,
   "id": "d094ef2b-b0ba-42d6-9c14-a6b60ee6c401",
   "metadata": {},
   "outputs": [],
   "source": [
    "from ray.tune.registry import register_env\n",
    "register_env(\"Gymnasium_Pick_Place_0_Dense\", env_creator)"
   ]
  },
  {
   "cell_type": "code",
   "execution_count": 13,
   "id": "4f3af391-9614-41f2-a6e3-1e6ae81695b5",
   "metadata": {},
   "outputs": [],
   "source": [
    "env = env_creator({})"
   ]
  },
  {
   "cell_type": "code",
   "execution_count": 14,
   "id": "9a3b7c8d-bef4-4325-af27-619d846d5a6f",
   "metadata": {},
   "outputs": [],
   "source": [
    "for i in range(0,512):\n",
    "    env.step(env.action_space.sample())"
   ]
  },
  {
   "cell_type": "code",
   "execution_count": 15,
   "id": "1a560704-026f-455f-96b2-626cca81309e",
   "metadata": {},
   "outputs": [
    {
     "data": {
      "text/plain": [
       "({'observation': array([ 1.34195486e+00,  7.49100497e-01,  5.34707205e-01,  1.20883577e+00,\n",
       "          8.89616431e-01,  4.24702091e-01, -1.33119085e-01,  1.40515935e-01,\n",
       "         -1.10005114e-01,  3.18450068e-06, -4.96835828e-08, -8.82449685e-08,\n",
       "          1.35761490e-07,  3.78750543e-15,  3.25141132e-06, -1.43639066e-08,\n",
       "          4.16619734e-05,  5.03907166e-08, -7.75241793e-08,  2.44454593e-18,\n",
       "         -3.25334641e-06,  1.31060963e-08,  5.16579228e-06,  5.26339189e-07,\n",
       "          1.75358425e-07]),\n",
       "  'achieved_goal': array([1.20883577, 0.88961643, 0.42470209]),\n",
       "  'desired_goal': array([1.44918839, 0.60138671, 0.42469975])},\n",
       " {})"
      ]
     },
     "execution_count": 15,
     "metadata": {},
     "output_type": "execute_result"
    }
   ],
   "source": [
    "env.reset()"
   ]
  },
  {
   "cell_type": "code",
   "execution_count": 16,
   "id": "dea082f0-aec1-4e60-a7ab-eb150b8f7915",
   "metadata": {},
   "outputs": [],
   "source": [
    "for i in range(0,512):\n",
    "    env.step(env.action_space.sample())"
   ]
  },
  {
   "cell_type": "code",
   "execution_count": 17,
   "id": "d6d6673b-17ab-4dda-9b39-c4dc4624cc9d",
   "metadata": {},
   "outputs": [
    {
     "data": {
      "text/plain": [
       "({'observation': array([ 1.34195486e+00,  7.49100497e-01,  5.34707205e-01,  1.20883577e+00,\n",
       "          8.89616431e-01,  4.24702091e-01, -1.33119085e-01,  1.40515935e-01,\n",
       "         -1.10005114e-01,  3.18450068e-06, -4.96835828e-08, -8.82449685e-08,\n",
       "          1.35761490e-07,  3.78750543e-15,  3.25141132e-06, -1.43639066e-08,\n",
       "          4.16619734e-05,  5.03907166e-08, -7.75241793e-08,  2.44454593e-18,\n",
       "         -3.25334641e-06,  1.31060963e-08,  5.16579228e-06,  5.26339189e-07,\n",
       "          1.75358425e-07]),\n",
       "  'achieved_goal': array([1.20883577, 0.88961643, 0.42470209]),\n",
       "  'desired_goal': array([1.44918839, 0.60138671, 0.42469975])},\n",
       " {})"
      ]
     },
     "execution_count": 17,
     "metadata": {},
     "output_type": "execute_result"
    }
   ],
   "source": [
    "env.reset()"
   ]
  },
  {
   "cell_type": "code",
   "execution_count": null,
   "id": "4c1edd25-6f81-4ba7-9574-a5e89aa8f2de",
   "metadata": {},
   "outputs": [],
   "source": []
  },
  {
   "cell_type": "code",
   "execution_count": null,
   "id": "fefcd87a-5f8f-428c-8bbf-bfad7e35ffb1",
   "metadata": {},
   "outputs": [],
   "source": []
  },
  {
   "cell_type": "code",
   "execution_count": 8,
   "id": "45de8524-3c5b-43d7-939a-dbd855c15c07",
   "metadata": {},
   "outputs": [],
   "source": [
    "env = gym.make('FetchPickAndPlace-v2', render_mode='human', reward_type='dense', max_episode_steps=100)"
   ]
  },
  {
   "cell_type": "code",
   "execution_count": 9,
   "id": "e46c18c6-b8c0-4112-913b-f33b4648c71a",
   "metadata": {},
   "outputs": [
    {
     "name": "stdout",
     "output_type": "stream",
     "text": [
      "Environment does not have a seed method\n"
     ]
    }
   ],
   "source": [
    "if hasattr(env, 'seed'):\n",
    "    print(\"Environment has a seed method\")\n",
    "else:\n",
    "    print(\"Environment does not have a seed method\")\n"
   ]
  },
  {
   "cell_type": "code",
   "execution_count": null,
   "id": "aa5a6c6b-287d-4863-b88b-4ddc2552c972",
   "metadata": {},
   "outputs": [],
   "source": []
  }
 ],
 "metadata": {
  "kernelspec": {
   "display_name": "Python 3",
   "language": "python",
   "name": "python3"
  },
  "language_info": {
   "codemirror_mode": {
    "name": "ipython",
    "version": 3
   },
   "file_extension": ".py",
   "mimetype": "text/x-python",
   "name": "python",
   "nbconvert_exporter": "python",
   "pygments_lexer": "ipython3",
   "version": "3.9.17"
  }
 },
 "nbformat": 4,
 "nbformat_minor": 5
}
